{
 "cells": [
  {
   "cell_type": "markdown",
   "metadata": {
    "application/vnd.databricks.v1+cell": {
     "cellMetadata": {
      "byteLimit": 2048000,
      "rowLimit": 10000
     },
     "inputWidgets": {},
     "nuid": "0571aac2-e832-4664-9be9-b0e5c927c5dc",
     "showTitle": false,
     "title": ""
    }
   },
   "source": [
    "The goal of this project is to generate five key recommendations for optimizing contractor-based nursing staff allocations for nursing homes. These recommendations will be based primarily on the PBJ Daily Nurse Staffing dataset and supported by additional datasets that provide context on penalties, provider information, citations, quality measures, and more. \n",
    "\n",
    "\n",
    "| **Term Name**        | **Definition**                                                                 |\n",
    "|----------------------|-------------------------------------------------------------------------------|\n",
    "| PROVNUM              | Medicare provider number                                                      |\n",
    "| PROVNAME             | Provider name                                                                 |\n",
    "| CITY                 | Provider City                                                                 |\n",
    "| STATE                | Postal abbreviation for State                                                 |\n",
    "| COUNTY_NAME          | Name of Provider County, unique within state                                  |\n",
    "| COUNTY_FIPS          | FIPS Code for Provider County, unique within state                            |\n",
    "| CY_Qtr               | Calendar Quarter (yyyyQq, e.g. 2018Q4)                                        |\n",
    "| WorkDate             | Day for Reported Hours (yyyymmdd)                                              |\n",
    "| MDScensus            | Resident Census from MDS                                                      |\n",
    "| Hrs_RNDON            | Total Hours for RN Director of Nursing                                         |\n",
    "| Hrs_RNDON_emp        | Employee Hours for RN Director of Nursing                                      |\n",
    "| Hrs_RNDON_ctr        | Contract Hours for RN Director of Nursing                                      |\n",
    "| Hrs_RNadmin          | Hours for RN with administrative duties                                       |\n",
    "| Hrs_RNadmin_emp      | Employee Hours for RN with administrative duties                              |\n",
    "| Hrs_RNadmin_ctr      | Contract Hours for RN with administrative duties                              |\n",
    "| Hrs_RN               | Total Hours for RN                                                            |\n",
    "| Hrs_RN_emp           | Employee Hours for RN                                                         |\n",
    "| Hrs_RN_ctr           | Contract Hours for RN                                                         |\n",
    "| Hrs_LPNadmin         | Total Hours for LPN w/ admin duties                                            |\n",
    "| Hrs_LPNadmin_emp     | Employee Hours for LPN w/ admin duties                                         |\n",
    "| Hrs_LPNadmin_ctr     | Contract Hours for LPN w/ admin duties                                         |\n",
    "| Hrs_LPN              | Total Hours for LPN                                                           |\n",
    "| Hrs_LPN_emp          | Employee Hours for LPN                                                        |\n",
    "| Hrs_LPN_ctr          | Contract Hours for LPN                                                        |\n",
    "| Hrs_CNA              | Total Hours for CNA                                                           |\n",
    "| Hrs_CNA_emp          | Employee Hours for CNA                                                        |\n",
    "| Hrs_CNA_ctr          | Contract Hours for CNA                                                        |\n",
    "| Hrs_NAtrain          | Total Hours for Nurse aide in training                                         |\n",
    "| Hrs_NAtrain_emp      | Employee Hours for Nurse aide in training                                      |\n",
    "| Hrs_NAtrain_ctr      | Contract Hours for Nurse aide in training                                      |\n",
    "| Hrs_MedAide          | Total Hours for Med Aide/Technician                                            |\n",
    "| Hrs_MedAide_emp      | Employee Hours for Med Aide/Technician                                         |\n",
    "| Hrs_MedAide_ctr      | Contract Hours for Med Aide/Technician "
   ]
  },
  {
   "cell_type": "code",
   "execution_count": 0,
   "metadata": {
    "application/vnd.databricks.v1+cell": {
     "cellMetadata": {
      "byteLimit": 2048000,
      "rowLimit": 10000
     },
     "inputWidgets": {},
     "nuid": "a53cf58a-06c4-464c-9d6f-137376be1683",
     "showTitle": false,
     "title": ""
    }
   },
   "outputs": [],
   "source": [
    "from pyspark.sql import SparkSession\n",
    "from pyspark.sql.functions import col\n",
    "import pandas as pd\n",
    "from pyspark.sql import functions as F"
   ]
  },
  {
   "cell_type": "code",
   "execution_count": 0,
   "metadata": {
    "application/vnd.databricks.v1+cell": {
     "cellMetadata": {
      "byteLimit": 2048000,
      "rowLimit": 10000
     },
     "inputWidgets": {},
     "nuid": "40aacbc2-fd38-4a52-b934-b49279f1cde5",
     "showTitle": false,
     "title": ""
    }
   },
   "outputs": [
    {
     "output_type": "stream",
     "name": "stdout",
     "output_type": "stream",
     "text": [
      "root\n |-- PROVNUM: string (nullable = true)\n |-- PROVNAME: string (nullable = true)\n |-- CITY: string (nullable = true)\n |-- STATE: string (nullable = true)\n |-- COUNTY_NAME: string (nullable = true)\n |-- COUNTY_FIPS: integer (nullable = true)\n |-- CY_Qtr: string (nullable = true)\n |-- WorkDate: integer (nullable = true)\n |-- MDScensus: integer (nullable = true)\n |-- Hrs_RNDON: double (nullable = true)\n |-- Hrs_RNDON_emp: double (nullable = true)\n |-- Hrs_RNDON_ctr: double (nullable = true)\n |-- Hrs_RNadmin: double (nullable = true)\n |-- Hrs_RNadmin_emp: double (nullable = true)\n |-- Hrs_RNadmin_ctr: double (nullable = true)\n |-- Hrs_RN: double (nullable = true)\n |-- Hrs_RN_emp: double (nullable = true)\n |-- Hrs_RN_ctr: double (nullable = true)\n |-- Hrs_LPNadmin: double (nullable = true)\n |-- Hrs_LPNadmin_emp: double (nullable = true)\n |-- Hrs_LPNadmin_ctr: double (nullable = true)\n |-- Hrs_LPN: double (nullable = true)\n |-- Hrs_LPN_emp: double (nullable = true)\n |-- Hrs_LPN_ctr: double (nullable = true)\n |-- Hrs_CNA: double (nullable = true)\n |-- Hrs_CNA_emp: double (nullable = true)\n |-- Hrs_CNA_ctr: double (nullable = true)\n |-- Hrs_NAtrn: double (nullable = true)\n |-- Hrs_NAtrn_emp: double (nullable = true)\n |-- Hrs_NAtrn_ctr: double (nullable = true)\n |-- Hrs_MedAide: double (nullable = true)\n |-- Hrs_MedAide_emp: double (nullable = true)\n |-- Hrs_MedAide_ctr: double (nullable = true)\n\n"
     ]
    }
   ],
   "source": [
    "spark = SparkSession.builder.appName(\"NurseStaffing\").getOrCreate()\n",
    "\n",
    "file_path = \"/FileStore/tables/PBJ_Daily_Nurse_Staffing_Q1_2024.csv\"  # update this with the actual file path\n",
    "nurse_staffing_df = spark.read.csv(file_path, header=True, inferSchema=True, encoding=\"UTF-8\" )\n",
    "\n",
    "nurse_staffing_df.printSchema()\n"
   ]
  },
  {
   "cell_type": "code",
   "execution_count": 0,
   "metadata": {
    "application/vnd.databricks.v1+cell": {
     "cellMetadata": {
      "byteLimit": 2048000,
      "rowLimit": 10000
     },
     "inputWidgets": {},
     "nuid": "1cb5cd42-555c-44d4-8a54-8af577c2b31e",
     "showTitle": false,
     "title": ""
    }
   },
   "outputs": [],
   "source": [
    "top_10_df = nurse_staffing_df.limit(10)\n",
    "\n",
    "top_10_pandas_df = top_10_df.toPandas()\n",
    "\n",
    "#display(top_10_pandas_df)"
   ]
  },
  {
   "cell_type": "code",
   "execution_count": 0,
   "metadata": {
    "application/vnd.databricks.v1+cell": {
     "cellMetadata": {
      "byteLimit": 2048000,
      "rowLimit": 10000
     },
     "inputWidgets": {},
     "nuid": "9f6ca97c-c033-42b9-9f51-116b06ed3ef1",
     "showTitle": false,
     "title": ""
    }
   },
   "outputs": [],
   "source": [
    "# Summary statistics to understand the distribution of numerical columns\n",
    "summary_df = nurse_staffing_df.describe()\n",
    "\n",
    "summary_pandas_df = summary_df.toPandas()\n",
    "\n",
    "pd.set_option('display.float_format', '{:.2f}'.format)  # Rounds floats to 2 decimal places\n",
    "\n",
    "#display(summary_pandas_df)"
   ]
  },
  {
   "cell_type": "code",
   "execution_count": 0,
   "metadata": {
    "application/vnd.databricks.v1+cell": {
     "cellMetadata": {
      "byteLimit": 2048000,
      "rowLimit": 10000
     },
     "inputWidgets": {},
     "nuid": "71f683e4-e7f5-4d1c-a820-13eab176ca90",
     "showTitle": false,
     "title": ""
    }
   },
   "outputs": [
    {
     "output_type": "stream",
     "name": "stdout",
     "output_type": "stream",
     "text": [
      "++\n||\n++\n||\n++\n\n"
     ]
    }
   ],
   "source": [
    "missing_values = nurse_staffing_df.select([col(column).isNull().alias(column) for column in nurse_staffing_df.columns]).groupBy().sum()\n",
    "missing_values.show()"
   ]
  },
  {
   "cell_type": "code",
   "execution_count": 0,
   "metadata": {
    "application/vnd.databricks.v1+cell": {
     "cellMetadata": {
      "byteLimit": 2048000,
      "rowLimit": 10000
     },
     "inputWidgets": {},
     "nuid": "6694e278-333a-4624-9b7a-5a9cac7d3455",
     "showTitle": false,
     "title": ""
    }
   },
   "outputs": [],
   "source": [
    "## Get basic column statistics\n",
    "summary_df = nurse_staffing_df.describe()\n",
    "\n",
    "summary_pandas_df = summary_df.toPandas()\n",
    "\n",
    "pd.set_option('display.float_format', '{:.2f}'.format) \n",
    "\n",
    "columns_to_display = ['summary'] + list(summary_pandas_df.columns[9:])\n",
    "\n",
    "#display(summary_pandas_df[columns_to_display])"
   ]
  },
  {
   "cell_type": "markdown",
   "metadata": {
    "application/vnd.databricks.v1+cell": {
     "cellMetadata": {
      "byteLimit": 2048000,
      "rowLimit": 10000
     },
     "inputWidgets": {},
     "nuid": "2e77dcde-2665-4b89-8364-c71c7c33d959",
     "showTitle": false,
     "title": ""
    }
   },
   "source": []
  },
  {
   "cell_type": "code",
   "execution_count": 0,
   "metadata": {
    "application/vnd.databricks.v1+cell": {
     "cellMetadata": {
      "byteLimit": 2048000,
      "rowLimit": 10000
     },
     "inputWidgets": {},
     "nuid": "772a56b0-394c-406f-bc24-5f46194329cc",
     "showTitle": false,
     "title": ""
    }
   },
   "outputs": [],
   "source": [
    "aggregated_pandas_df = None\n",
    "aggregated_df = None"
   ]
  },
  {
   "cell_type": "markdown",
   "metadata": {
    "application/vnd.databricks.v1+cell": {
     "cellMetadata": {
      "byteLimit": 2048000,
      "rowLimit": 10000
     },
     "inputWidgets": {},
     "nuid": "a42108dc-fac6-40f4-a3e0-baeab415fbfa",
     "showTitle": false,
     "title": ""
    }
   },
   "source": [
    "To better analyze the data and make reccomendations, I will be implementing a number of metrics by aggregating the data by different\n",
    "categories, like State, City, Provider Number, and more. Some of these metrics include:\n",
    "\n",
    "<strong style=\"font-size:26px;\">1. Contractor Utilization Rate:</strong> an index that measures a nursing home's reliance on contractors  \n",
    "<p style=\"font-size:20px;\">\n",
    "An index that measures a nursing home's reliance on contractors in relation to other workers at the facility<br>\n",
    "<strong>-Contractor Utilization Rate</strong> = <sup>Total Contractor Hours (RN, LPN, CNA, NAtrn, MedAide)</sup> / <sub>Total Hours (RN, LPN, CNA, NAtrn, MedAide)</sub>\n",
    "</p>\n",
    "\n",
    "\n",
    "Where: <br>\n",
    "- <strong>Total Contractor Hours</strong> refers to the total number of hours worked by contractors across all staff types (RN, LPN, CNA, NAtrn, MedAide).<br>\n",
    "- <strong>Total Hours</strong> includes the total hours worked by both employees and contractors across the same staff types.<br>\n",
    "\n",
    "<strong style=\"font-size:26px;\">2. Hours per Resident per Day, Contractor and Employee performance:</strong> <br>\n",
    "    <p style=\"font-size:20px;\">\n",
    "An index that measures how much time contractors and employees spend on each resident on average. An effective metric for comparing efficiency in care. <br>\n",
    "<strong>-Hours per Resident per Day(Contractors)</strong> = <sup>Total Contractor Hours(RN, LPN, CNA, NAtrn, MedAide)</sup> / <sub>Resident Census(MDScensus)</sub><br>\n",
    "<strong>-Hours per Resident per Day(Employees)</strong> = <sup>Total Employee Hours(RN, LPN, CNA, NAtrn, MedAide)</sup> / <sub>Resident Census(MDScensus)</sub><br>\n",
    "</p>\n",
    "\n",
    "\n",
    "Where: <br>\n",
    "- <strong>Total Contractor Hours</strong> refers to the total number of hours worked by contractors across all staff types (RN, LPN, CNA, NAtrn, MedAide).<br>\n",
    "- <strong>Total Employee Hours</strong> refers to the total number of hours worked by contractors across all staff types (RN, LPN, CNA, NAtrn, MedAide).<br>\n",
    "- <strong>Resident Census (MDScensus)</strong> refers to the number of residents present or receiving care in a nursing home facility on a given day.<br>\n",
    "\n",
    "\n"
   ]
  },
  {
   "cell_type": "code",
   "execution_count": 0,
   "metadata": {
    "application/vnd.databricks.v1+cell": {
     "cellMetadata": {
      "byteLimit": 2048000,
      "rowLimit": 10000
     },
     "inputWidgets": {},
     "nuid": "52eb4181-9404-488c-809d-ec88bf73ba02",
     "showTitle": false,
     "title": ""
    }
   },
   "outputs": [],
   "source": [
    "nurse_staffing_df = nurse_staffing_df.withColumn(\n",
    "    \"Total_Nursing_Hours\", \n",
    "    F.col(\"Hrs_RN\") + F.col(\"Hrs_LPN\") + F.col(\"Hrs_CNA\") + F.col(\"Hrs_NAtrn\") + F.col(\"Hrs_MedAide\")\n",
    ")\n",
    "nurse_staffing_df = nurse_staffing_df.withColumn(\n",
    "    \"Total_contracting_Hours\", \n",
    "    F.col(\"Hrs_RN_ctr\") + F.col(\"Hrs_LPN_ctr\") + F.col(\"Hrs_CNA_ctr\") + F.col(\"Hrs_NAtrn_ctr\") + F.col(\"Hrs_MedAide_ctr\")\n",
    ")\n",
    "nurse_staffing_df = nurse_staffing_df.withColumn(\n",
    "    \"Total_employee_Hours\", \n",
    "    F.col(\"Hrs_RN_emp\") + F.col(\"Hrs_LPN_emp\") + F.col(\"Hrs_CNA_emp\") + F.col(\"Hrs_NAtrn_emp\") + F.col(\"Hrs_MedAide_emp\")\n",
    ")\n",
    "nurse_staffing_df = nurse_staffing_df.withColumn(\n",
    "    'contractor_reliance_ratio', \n",
    "    F.col('Total_contracting_Hours') / F.col(\"Total_Nursing_Hours\")\n",
    ")\n",
    "\n",
    "nurse_staffing_df = nurse_staffing_df.fillna({'contractor_reliance_ratio': 0})\n",
    "\n"
   ]
  },
  {
   "cell_type": "code",
   "execution_count": 0,
   "metadata": {
    "application/vnd.databricks.v1+cell": {
     "cellMetadata": {
      "byteLimit": 2048000,
      "rowLimit": 10000
     },
     "inputWidgets": {},
     "nuid": "fe30e607-bafc-41e2-901c-c9c55ce99669",
     "showTitle": false,
     "title": ""
    }
   },
   "outputs": [],
   "source": [
    "# percentile based bins\n",
    "quantiles = nurse_staffing_df.approxQuantile(\"contractor_reliance_ratio\", [0.33, 0.66], 0.01)\n",
    "low_quantile = quantiles[0]\n",
    "high_quantile = quantiles[1]\n",
    "\n",
    "df_agg_home = nurse_staffing_df.groupBy(\"PROVNUM\").agg(\n",
    "    F.sum(\"Total_contracting_Hours\").alias(\"total_contractor_hours\"),\n",
    "    F.sum(\"Total_employee_Hours\").alias(\"total_employee_hours\"),\n",
    "    F.sum(\"MDScensus\").alias(\"total_resident_census\"),\n",
    "    F.sum(\"Total_Nursing_Hours\").alias(\"Total_nursing_Hours\"),\n",
    "    F.countDistinct(\"WorkDate\").alias(\"total_days\") \n",
    ")\n",
    "df_agg_home = df_agg_home.withColumn(\n",
    "    'contractor_reliance_ratio', \n",
    "    F.col('total_contractor_hours') / F.col(\"Total_nursing_Hours\")\n",
    ")\n",
    "df_agg_home = df_agg_home.withColumn(\n",
    "    'Reliance on Contracting',\n",
    "    F.when(F.col('contractor_reliance_ratio') <= low_quantile, 'Low Reliance')\n",
    "    .when((F.col('contractor_reliance_ratio') > low_quantile) & (F.col('contractor_reliance_ratio') <= high_quantile), 'Medium Reliance')\n",
    "    .otherwise('High Reliance')\n",
    ")\n",
    "\n",
    "category_counts = df_agg_home.groupBy(\"PROVNUM\", \"Reliance on Contracting\").agg(F.count(\"*\").alias(\"count\"))\n",
    "\n",
    "\n",
    "#category_counts.display()"
   ]
  },
  {
   "cell_type": "code",
   "execution_count": 0,
   "metadata": {
    "application/vnd.databricks.v1+cell": {
     "cellMetadata": {
      "byteLimit": 2048000,
      "rowLimit": 10000
     },
     "inputWidgets": {},
     "nuid": "887898c4-1783-49da-ad25-7539f69ae20d",
     "showTitle": false,
     "title": ""
    }
   },
   "outputs": [],
   "source": [
    "df_agg_home.display()"
   ]
  },
  {
   "cell_type": "code",
   "execution_count": 0,
   "metadata": {
    "application/vnd.databricks.v1+cell": {
     "cellMetadata": {
      "byteLimit": 2048000,
      "rowLimit": 10000
     },
     "inputWidgets": {},
     "nuid": "008c5140-574a-4c19-91cb-e906537a9c4d",
     "showTitle": false,
     "title": ""
    }
   },
   "outputs": [
    {
     "output_type": "display_data",
     "data": {
      "text/html": [
       "<html>\n",
       "<head><meta charset=\"utf-8\" /></head>\n",
       "<body>\n",
       "    <div>            <script src=\"https://cdnjs.cloudflare.com/ajax/libs/mathjax/2.7.5/MathJax.js?config=TeX-AMS-MML_SVG\"></script><script type=\"text/javascript\">if (window.MathJax) {MathJax.Hub.Config({SVG: {font: \"STIX-Web\"}});}</script>                <script type=\"text/javascript\">window.PlotlyConfig = {MathJaxConfig: 'local'};</script>\n",
       "        <script src=\"https://cdn.plot.ly/plotly-2.9.0.min.js\"></script>                <div id=\"9158fca6-bf0d-46e1-956c-ee728c247796\" class=\"plotly-graph-div\" style=\"height:100%; width:100%;\"></div>            <script type=\"text/javascript\">                                    window.PLOTLYENV=window.PLOTLYENV || {};                                    if (document.getElementById(\"9158fca6-bf0d-46e1-956c-ee728c247796\")) {                    Plotly.newPlot(                        \"9158fca6-bf0d-46e1-956c-ee728c247796\",                        [{\"coloraxis\":\"coloraxis\",\"geo\":\"geo\",\"hovertemplate\":\"State=%{location}<br>Contractor Reliance=%{z}<extra></extra>\",\"locationmode\":\"USA-states\",\"locations\":[\"AZ\",\"DC\",\"CA\",\"CT\",\"DE\",\"AL\",\"CO\",\"FL\",\"AK\",\"AR\",\"ID\",\"IL\",\"IN\",\"GA\",\"HI\",\"LA\",\"KY\",\"MD\",\"ME\",\"IA\",\"MA\",\"KS\",\"MN\",\"MI\",\"NE\",\"MT\",\"MO\",\"MS\",\"NJ\",\"NH\",\"NV\",\"NC\",\"ND\",\"OH\",\"NM\",\"NY\",\"OR\",\"PA\",\"OK\",\"SC\",\"VA\",\"RI\",\"WI\",\"VT\",\"WA\",\"TN\",\"SD\",\"TX\",\"WV\",\"PR\",\"UT\",\"WY\"],\"name\":\"\",\"z\":[0.06323081034152293,0.0779358261196843,0.03725801868457737,0.057531330893767926,0.1403628173861172,0.01609708293523378,0.09807713981283513,0.030809054968691532,0.1296771993661699,0.020765619648039548,0.04190973748399412,0.09283728768028081,0.039504415901008345,0.07095122944270192,0.09880950536363929,0.0476540732802811,0.06371756240161154,0.122099879709522,0.18606770610423906,0.07084234692765803,0.10630025587706436,0.06672709003937453,0.08817709233682072,0.0374762877923033,0.12096712047228632,0.12923707370975215,0.06810722989922681,0.07413305705112619,0.16335610075621385,0.1773764769971579,0.03583405820568617,0.10697454086350054,0.1413256539804502,0.06368763664259251,0.07344429330352369,0.13111921646196112,0.13217791047941377,0.17192166242729762,0.031204556384584043,0.06681203532508372,0.06742211617150479,0.06457492914615298,0.11810755066524271,0.3226349250671943,0.08357054553740563,0.06932041754261589,0.10077033008862267,0.043458271663602624,0.05306231779240615,0.015347723008846273,0.061074076077118976,0.05668235481442421],\"type\":\"choropleth\"}],                        {\"template\":{\"data\":{\"bar\":[{\"error_x\":{\"color\":\"#2a3f5f\"},\"error_y\":{\"color\":\"#2a3f5f\"},\"marker\":{\"line\":{\"color\":\"#E5ECF6\",\"width\":0.5},\"pattern\":{\"fillmode\":\"overlay\",\"size\":10,\"solidity\":0.2}},\"type\":\"bar\"}],\"barpolar\":[{\"marker\":{\"line\":{\"color\":\"#E5ECF6\",\"width\":0.5},\"pattern\":{\"fillmode\":\"overlay\",\"size\":10,\"solidity\":0.2}},\"type\":\"barpolar\"}],\"carpet\":[{\"aaxis\":{\"endlinecolor\":\"#2a3f5f\",\"gridcolor\":\"white\",\"linecolor\":\"white\",\"minorgridcolor\":\"white\",\"startlinecolor\":\"#2a3f5f\"},\"baxis\":{\"endlinecolor\":\"#2a3f5f\",\"gridcolor\":\"white\",\"linecolor\":\"white\",\"minorgridcolor\":\"white\",\"startlinecolor\":\"#2a3f5f\"},\"type\":\"carpet\"}],\"choropleth\":[{\"colorbar\":{\"outlinewidth\":0,\"ticks\":\"\"},\"type\":\"choropleth\"}],\"contour\":[{\"colorbar\":{\"outlinewidth\":0,\"ticks\":\"\"},\"colorscale\":[[0.0,\"#0d0887\"],[0.1111111111111111,\"#46039f\"],[0.2222222222222222,\"#7201a8\"],[0.3333333333333333,\"#9c179e\"],[0.4444444444444444,\"#bd3786\"],[0.5555555555555556,\"#d8576b\"],[0.6666666666666666,\"#ed7953\"],[0.7777777777777778,\"#fb9f3a\"],[0.8888888888888888,\"#fdca26\"],[1.0,\"#f0f921\"]],\"type\":\"contour\"}],\"contourcarpet\":[{\"colorbar\":{\"outlinewidth\":0,\"ticks\":\"\"},\"type\":\"contourcarpet\"}],\"heatmap\":[{\"colorbar\":{\"outlinewidth\":0,\"ticks\":\"\"},\"colorscale\":[[0.0,\"#0d0887\"],[0.1111111111111111,\"#46039f\"],[0.2222222222222222,\"#7201a8\"],[0.3333333333333333,\"#9c179e\"],[0.4444444444444444,\"#bd3786\"],[0.5555555555555556,\"#d8576b\"],[0.6666666666666666,\"#ed7953\"],[0.7777777777777778,\"#fb9f3a\"],[0.8888888888888888,\"#fdca26\"],[1.0,\"#f0f921\"]],\"type\":\"heatmap\"}],\"heatmapgl\":[{\"colorbar\":{\"outlinewidth\":0,\"ticks\":\"\"},\"colorscale\":[[0.0,\"#0d0887\"],[0.1111111111111111,\"#46039f\"],[0.2222222222222222,\"#7201a8\"],[0.3333333333333333,\"#9c179e\"],[0.4444444444444444,\"#bd3786\"],[0.5555555555555556,\"#d8576b\"],[0.6666666666666666,\"#ed7953\"],[0.7777777777777778,\"#fb9f3a\"],[0.8888888888888888,\"#fdca26\"],[1.0,\"#f0f921\"]],\"type\":\"heatmapgl\"}],\"histogram\":[{\"marker\":{\"pattern\":{\"fillmode\":\"overlay\",\"size\":10,\"solidity\":0.2}},\"type\":\"histogram\"}],\"histogram2d\":[{\"colorbar\":{\"outlinewidth\":0,\"ticks\":\"\"},\"colorscale\":[[0.0,\"#0d0887\"],[0.1111111111111111,\"#46039f\"],[0.2222222222222222,\"#7201a8\"],[0.3333333333333333,\"#9c179e\"],[0.4444444444444444,\"#bd3786\"],[0.5555555555555556,\"#d8576b\"],[0.6666666666666666,\"#ed7953\"],[0.7777777777777778,\"#fb9f3a\"],[0.8888888888888888,\"#fdca26\"],[1.0,\"#f0f921\"]],\"type\":\"histogram2d\"}],\"histogram2dcontour\":[{\"colorbar\":{\"outlinewidth\":0,\"ticks\":\"\"},\"colorscale\":[[0.0,\"#0d0887\"],[0.1111111111111111,\"#46039f\"],[0.2222222222222222,\"#7201a8\"],[0.3333333333333333,\"#9c179e\"],[0.4444444444444444,\"#bd3786\"],[0.5555555555555556,\"#d8576b\"],[0.6666666666666666,\"#ed7953\"],[0.7777777777777778,\"#fb9f3a\"],[0.8888888888888888,\"#fdca26\"],[1.0,\"#f0f921\"]],\"type\":\"histogram2dcontour\"}],\"mesh3d\":[{\"colorbar\":{\"outlinewidth\":0,\"ticks\":\"\"},\"type\":\"mesh3d\"}],\"parcoords\":[{\"line\":{\"colorbar\":{\"outlinewidth\":0,\"ticks\":\"\"}},\"type\":\"parcoords\"}],\"pie\":[{\"automargin\":true,\"type\":\"pie\"}],\"scatter\":[{\"marker\":{\"colorbar\":{\"outlinewidth\":0,\"ticks\":\"\"}},\"type\":\"scatter\"}],\"scatter3d\":[{\"line\":{\"colorbar\":{\"outlinewidth\":0,\"ticks\":\"\"}},\"marker\":{\"colorbar\":{\"outlinewidth\":0,\"ticks\":\"\"}},\"type\":\"scatter3d\"}],\"scattercarpet\":[{\"marker\":{\"colorbar\":{\"outlinewidth\":0,\"ticks\":\"\"}},\"type\":\"scattercarpet\"}],\"scattergeo\":[{\"marker\":{\"colorbar\":{\"outlinewidth\":0,\"ticks\":\"\"}},\"type\":\"scattergeo\"}],\"scattergl\":[{\"marker\":{\"colorbar\":{\"outlinewidth\":0,\"ticks\":\"\"}},\"type\":\"scattergl\"}],\"scattermapbox\":[{\"marker\":{\"colorbar\":{\"outlinewidth\":0,\"ticks\":\"\"}},\"type\":\"scattermapbox\"}],\"scatterpolar\":[{\"marker\":{\"colorbar\":{\"outlinewidth\":0,\"ticks\":\"\"}},\"type\":\"scatterpolar\"}],\"scatterpolargl\":[{\"marker\":{\"colorbar\":{\"outlinewidth\":0,\"ticks\":\"\"}},\"type\":\"scatterpolargl\"}],\"scatterternary\":[{\"marker\":{\"colorbar\":{\"outlinewidth\":0,\"ticks\":\"\"}},\"type\":\"scatterternary\"}],\"surface\":[{\"colorbar\":{\"outlinewidth\":0,\"ticks\":\"\"},\"colorscale\":[[0.0,\"#0d0887\"],[0.1111111111111111,\"#46039f\"],[0.2222222222222222,\"#7201a8\"],[0.3333333333333333,\"#9c179e\"],[0.4444444444444444,\"#bd3786\"],[0.5555555555555556,\"#d8576b\"],[0.6666666666666666,\"#ed7953\"],[0.7777777777777778,\"#fb9f3a\"],[0.8888888888888888,\"#fdca26\"],[1.0,\"#f0f921\"]],\"type\":\"surface\"}],\"table\":[{\"cells\":{\"fill\":{\"color\":\"#EBF0F8\"},\"line\":{\"color\":\"white\"}},\"header\":{\"fill\":{\"color\":\"#C8D4E3\"},\"line\":{\"color\":\"white\"}},\"type\":\"table\"}]},\"layout\":{\"annotationdefaults\":{\"arrowcolor\":\"#2a3f5f\",\"arrowhead\":0,\"arrowwidth\":1},\"autotypenumbers\":\"strict\",\"coloraxis\":{\"colorbar\":{\"outlinewidth\":0,\"ticks\":\"\"}},\"colorscale\":{\"diverging\":[[0,\"#8e0152\"],[0.1,\"#c51b7d\"],[0.2,\"#de77ae\"],[0.3,\"#f1b6da\"],[0.4,\"#fde0ef\"],[0.5,\"#f7f7f7\"],[0.6,\"#e6f5d0\"],[0.7,\"#b8e186\"],[0.8,\"#7fbc41\"],[0.9,\"#4d9221\"],[1,\"#276419\"]],\"sequential\":[[0.0,\"#0d0887\"],[0.1111111111111111,\"#46039f\"],[0.2222222222222222,\"#7201a8\"],[0.3333333333333333,\"#9c179e\"],[0.4444444444444444,\"#bd3786\"],[0.5555555555555556,\"#d8576b\"],[0.6666666666666666,\"#ed7953\"],[0.7777777777777778,\"#fb9f3a\"],[0.8888888888888888,\"#fdca26\"],[1.0,\"#f0f921\"]],\"sequentialminus\":[[0.0,\"#0d0887\"],[0.1111111111111111,\"#46039f\"],[0.2222222222222222,\"#7201a8\"],[0.3333333333333333,\"#9c179e\"],[0.4444444444444444,\"#bd3786\"],[0.5555555555555556,\"#d8576b\"],[0.6666666666666666,\"#ed7953\"],[0.7777777777777778,\"#fb9f3a\"],[0.8888888888888888,\"#fdca26\"],[1.0,\"#f0f921\"]]},\"colorway\":[\"#636efa\",\"#EF553B\",\"#00cc96\",\"#ab63fa\",\"#FFA15A\",\"#19d3f3\",\"#FF6692\",\"#B6E880\",\"#FF97FF\",\"#FECB52\"],\"font\":{\"color\":\"#2a3f5f\"},\"geo\":{\"bgcolor\":\"white\",\"lakecolor\":\"white\",\"landcolor\":\"#E5ECF6\",\"showlakes\":true,\"showland\":true,\"subunitcolor\":\"white\"},\"hoverlabel\":{\"align\":\"left\"},\"hovermode\":\"closest\",\"mapbox\":{\"style\":\"light\"},\"paper_bgcolor\":\"white\",\"plot_bgcolor\":\"#E5ECF6\",\"polar\":{\"angularaxis\":{\"gridcolor\":\"white\",\"linecolor\":\"white\",\"ticks\":\"\"},\"bgcolor\":\"#E5ECF6\",\"radialaxis\":{\"gridcolor\":\"white\",\"linecolor\":\"white\",\"ticks\":\"\"}},\"scene\":{\"xaxis\":{\"backgroundcolor\":\"#E5ECF6\",\"gridcolor\":\"white\",\"gridwidth\":2,\"linecolor\":\"white\",\"showbackground\":true,\"ticks\":\"\",\"zerolinecolor\":\"white\"},\"yaxis\":{\"backgroundcolor\":\"#E5ECF6\",\"gridcolor\":\"white\",\"gridwidth\":2,\"linecolor\":\"white\",\"showbackground\":true,\"ticks\":\"\",\"zerolinecolor\":\"white\"},\"zaxis\":{\"backgroundcolor\":\"#E5ECF6\",\"gridcolor\":\"white\",\"gridwidth\":2,\"linecolor\":\"white\",\"showbackground\":true,\"ticks\":\"\",\"zerolinecolor\":\"white\"}},\"shapedefaults\":{\"line\":{\"color\":\"#2a3f5f\"}},\"ternary\":{\"aaxis\":{\"gridcolor\":\"white\",\"linecolor\":\"white\",\"ticks\":\"\"},\"baxis\":{\"gridcolor\":\"white\",\"linecolor\":\"white\",\"ticks\":\"\"},\"bgcolor\":\"#E5ECF6\",\"caxis\":{\"gridcolor\":\"white\",\"linecolor\":\"white\",\"ticks\":\"\"}},\"title\":{\"x\":0.05},\"xaxis\":{\"automargin\":true,\"gridcolor\":\"white\",\"linecolor\":\"white\",\"ticks\":\"\",\"title\":{\"standoff\":15},\"zerolinecolor\":\"white\",\"zerolinewidth\":2},\"yaxis\":{\"automargin\":true,\"gridcolor\":\"white\",\"linecolor\":\"white\",\"ticks\":\"\",\"title\":{\"standoff\":15},\"zerolinecolor\":\"white\",\"zerolinewidth\":2}}},\"geo\":{\"domain\":{\"x\":[0.0,1.0],\"y\":[0.0,1.0]},\"center\":{},\"scope\":\"usa\"},\"coloraxis\":{\"colorbar\":{\"title\":{\"text\":\"Contractor Reliance\"}},\"colorscale\":[[0.0,\"#440154\"],[0.1111111111111111,\"#482878\"],[0.2222222222222222,\"#3e4989\"],[0.3333333333333333,\"#31688e\"],[0.4444444444444444,\"#26828e\"],[0.5555555555555556,\"#1f9e89\"],[0.6666666666666666,\"#35b779\"],[0.7777777777777778,\"#6ece58\"],[0.8888888888888888,\"#b5de2b\"],[1.0,\"#fde725\"]]},\"legend\":{\"tracegroupgap\":0},\"title\":{\"text\":\"Contractor Reliance Ratio by State\"}},                        {\"responsive\": true}                    )                };                            </script>        </div>\n",
       "</body>\n",
       "</html>"
      ]
     },
     "metadata": {
      "application/vnd.databricks.v1+output": {
       "addedWidgets": {},
       "arguments": {},
       "data": "<html>\n<head><meta charset=\"utf-8\" /></head>\n<body>\n    <div>            <script src=\"https://cdnjs.cloudflare.com/ajax/libs/mathjax/2.7.5/MathJax.js?config=TeX-AMS-MML_SVG\"></script><script type=\"text/javascript\">if (window.MathJax) {MathJax.Hub.Config({SVG: {font: \"STIX-Web\"}});}</script>                <script type=\"text/javascript\">window.PlotlyConfig = {MathJaxConfig: 'local'};</script>\n        <script src=\"https://cdn.plot.ly/plotly-2.9.0.min.js\"></script>                <div id=\"9158fca6-bf0d-46e1-956c-ee728c247796\" class=\"plotly-graph-div\" style=\"height:100%; width:100%;\"></div>            <script type=\"text/javascript\">                                    window.PLOTLYENV=window.PLOTLYENV || {};                                    if (document.getElementById(\"9158fca6-bf0d-46e1-956c-ee728c247796\")) {                    Plotly.newPlot(                        \"9158fca6-bf0d-46e1-956c-ee728c247796\",                        [{\"coloraxis\":\"coloraxis\",\"geo\":\"geo\",\"hovertemplate\":\"State=%{location}<br>Contractor Reliance=%{z}<extra></extra>\",\"locationmode\":\"USA-states\",\"locations\":[\"AZ\",\"DC\",\"CA\",\"CT\",\"DE\",\"AL\",\"CO\",\"FL\",\"AK\",\"AR\",\"ID\",\"IL\",\"IN\",\"GA\",\"HI\",\"LA\",\"KY\",\"MD\",\"ME\",\"IA\",\"MA\",\"KS\",\"MN\",\"MI\",\"NE\",\"MT\",\"MO\",\"MS\",\"NJ\",\"NH\",\"NV\",\"NC\",\"ND\",\"OH\",\"NM\",\"NY\",\"OR\",\"PA\",\"OK\",\"SC\",\"VA\",\"RI\",\"WI\",\"VT\",\"WA\",\"TN\",\"SD\",\"TX\",\"WV\",\"PR\",\"UT\",\"WY\"],\"name\":\"\",\"z\":[0.06323081034152293,0.0779358261196843,0.03725801868457737,0.057531330893767926,0.1403628173861172,0.01609708293523378,0.09807713981283513,0.030809054968691532,0.1296771993661699,0.020765619648039548,0.04190973748399412,0.09283728768028081,0.039504415901008345,0.07095122944270192,0.09880950536363929,0.0476540732802811,0.06371756240161154,0.122099879709522,0.18606770610423906,0.07084234692765803,0.10630025587706436,0.06672709003937453,0.08817709233682072,0.0374762877923033,0.12096712047228632,0.12923707370975215,0.06810722989922681,0.07413305705112619,0.16335610075621385,0.1773764769971579,0.03583405820568617,0.10697454086350054,0.1413256539804502,0.06368763664259251,0.07344429330352369,0.13111921646196112,0.13217791047941377,0.17192166242729762,0.031204556384584043,0.06681203532508372,0.06742211617150479,0.06457492914615298,0.11810755066524271,0.3226349250671943,0.08357054553740563,0.06932041754261589,0.10077033008862267,0.043458271663602624,0.05306231779240615,0.015347723008846273,0.061074076077118976,0.05668235481442421],\"type\":\"choropleth\"}],                        {\"template\":{\"data\":{\"bar\":[{\"error_x\":{\"color\":\"#2a3f5f\"},\"error_y\":{\"color\":\"#2a3f5f\"},\"marker\":{\"line\":{\"color\":\"#E5ECF6\",\"width\":0.5},\"pattern\":{\"fillmode\":\"overlay\",\"size\":10,\"solidity\":0.2}},\"type\":\"bar\"}],\"barpolar\":[{\"marker\":{\"line\":{\"color\":\"#E5ECF6\",\"width\":0.5},\"pattern\":{\"fillmode\":\"overlay\",\"size\":10,\"solidity\":0.2}},\"type\":\"barpolar\"}],\"carpet\":[{\"aaxis\":{\"endlinecolor\":\"#2a3f5f\",\"gridcolor\":\"white\",\"linecolor\":\"white\",\"minorgridcolor\":\"white\",\"startlinecolor\":\"#2a3f5f\"},\"baxis\":{\"endlinecolor\":\"#2a3f5f\",\"gridcolor\":\"white\",\"linecolor\":\"white\",\"minorgridcolor\":\"white\",\"startlinecolor\":\"#2a3f5f\"},\"type\":\"carpet\"}],\"choropleth\":[{\"colorbar\":{\"outlinewidth\":0,\"ticks\":\"\"},\"type\":\"choropleth\"}],\"contour\":[{\"colorbar\":{\"outlinewidth\":0,\"ticks\":\"\"},\"colorscale\":[[0.0,\"#0d0887\"],[0.1111111111111111,\"#46039f\"],[0.2222222222222222,\"#7201a8\"],[0.3333333333333333,\"#9c179e\"],[0.4444444444444444,\"#bd3786\"],[0.5555555555555556,\"#d8576b\"],[0.6666666666666666,\"#ed7953\"],[0.7777777777777778,\"#fb9f3a\"],[0.8888888888888888,\"#fdca26\"],[1.0,\"#f0f921\"]],\"type\":\"contour\"}],\"contourcarpet\":[{\"colorbar\":{\"outlinewidth\":0,\"ticks\":\"\"},\"type\":\"contourcarpet\"}],\"heatmap\":[{\"colorbar\":{\"outlinewidth\":0,\"ticks\":\"\"},\"colorscale\":[[0.0,\"#0d0887\"],[0.1111111111111111,\"#46039f\"],[0.2222222222222222,\"#7201a8\"],[0.3333333333333333,\"#9c179e\"],[0.4444444444444444,\"#bd3786\"],[0.5555555555555556,\"#d8576b\"],[0.6666666666666666,\"#ed7953\"],[0.7777777777777778,\"#fb9f3a\"],[0.8888888888888888,\"#fdca26\"],[1.0,\"#f0f921\"]],\"type\":\"heatmap\"}],\"heatmapgl\":[{\"colorbar\":{\"outlinewidth\":0,\"ticks\":\"\"},\"colorscale\":[[0.0,\"#0d0887\"],[0.1111111111111111,\"#46039f\"],[0.2222222222222222,\"#7201a8\"],[0.3333333333333333,\"#9c179e\"],[0.4444444444444444,\"#bd3786\"],[0.5555555555555556,\"#d8576b\"],[0.6666666666666666,\"#ed7953\"],[0.7777777777777778,\"#fb9f3a\"],[0.8888888888888888,\"#fdca26\"],[1.0,\"#f0f921\"]],\"type\":\"heatmapgl\"}],\"histogram\":[{\"marker\":{\"pattern\":{\"fillmode\":\"overlay\",\"size\":10,\"solidity\":0.2}},\"type\":\"histogram\"}],\"histogram2d\":[{\"colorbar\":{\"outlinewidth\":0,\"ticks\":\"\"},\"colorscale\":[[0.0,\"#0d0887\"],[0.1111111111111111,\"#46039f\"],[0.2222222222222222,\"#7201a8\"],[0.3333333333333333,\"#9c179e\"],[0.4444444444444444,\"#bd3786\"],[0.5555555555555556,\"#d8576b\"],[0.6666666666666666,\"#ed7953\"],[0.7777777777777778,\"#fb9f3a\"],[0.8888888888888888,\"#fdca26\"],[1.0,\"#f0f921\"]],\"type\":\"histogram2d\"}],\"histogram2dcontour\":[{\"colorbar\":{\"outlinewidth\":0,\"ticks\":\"\"},\"colorscale\":[[0.0,\"#0d0887\"],[0.1111111111111111,\"#46039f\"],[0.2222222222222222,\"#7201a8\"],[0.3333333333333333,\"#9c179e\"],[0.4444444444444444,\"#bd3786\"],[0.5555555555555556,\"#d8576b\"],[0.6666666666666666,\"#ed7953\"],[0.7777777777777778,\"#fb9f3a\"],[0.8888888888888888,\"#fdca26\"],[1.0,\"#f0f921\"]],\"type\":\"histogram2dcontour\"}],\"mesh3d\":[{\"colorbar\":{\"outlinewidth\":0,\"ticks\":\"\"},\"type\":\"mesh3d\"}],\"parcoords\":[{\"line\":{\"colorbar\":{\"outlinewidth\":0,\"ticks\":\"\"}},\"type\":\"parcoords\"}],\"pie\":[{\"automargin\":true,\"type\":\"pie\"}],\"scatter\":[{\"marker\":{\"colorbar\":{\"outlinewidth\":0,\"ticks\":\"\"}},\"type\":\"scatter\"}],\"scatter3d\":[{\"line\":{\"colorbar\":{\"outlinewidth\":0,\"ticks\":\"\"}},\"marker\":{\"colorbar\":{\"outlinewidth\":0,\"ticks\":\"\"}},\"type\":\"scatter3d\"}],\"scattercarpet\":[{\"marker\":{\"colorbar\":{\"outlinewidth\":0,\"ticks\":\"\"}},\"type\":\"scattercarpet\"}],\"scattergeo\":[{\"marker\":{\"colorbar\":{\"outlinewidth\":0,\"ticks\":\"\"}},\"type\":\"scattergeo\"}],\"scattergl\":[{\"marker\":{\"colorbar\":{\"outlinewidth\":0,\"ticks\":\"\"}},\"type\":\"scattergl\"}],\"scattermapbox\":[{\"marker\":{\"colorbar\":{\"outlinewidth\":0,\"ticks\":\"\"}},\"type\":\"scattermapbox\"}],\"scatterpolar\":[{\"marker\":{\"colorbar\":{\"outlinewidth\":0,\"ticks\":\"\"}},\"type\":\"scatterpolar\"}],\"scatterpolargl\":[{\"marker\":{\"colorbar\":{\"outlinewidth\":0,\"ticks\":\"\"}},\"type\":\"scatterpolargl\"}],\"scatterternary\":[{\"marker\":{\"colorbar\":{\"outlinewidth\":0,\"ticks\":\"\"}},\"type\":\"scatterternary\"}],\"surface\":[{\"colorbar\":{\"outlinewidth\":0,\"ticks\":\"\"},\"colorscale\":[[0.0,\"#0d0887\"],[0.1111111111111111,\"#46039f\"],[0.2222222222222222,\"#7201a8\"],[0.3333333333333333,\"#9c179e\"],[0.4444444444444444,\"#bd3786\"],[0.5555555555555556,\"#d8576b\"],[0.6666666666666666,\"#ed7953\"],[0.7777777777777778,\"#fb9f3a\"],[0.8888888888888888,\"#fdca26\"],[1.0,\"#f0f921\"]],\"type\":\"surface\"}],\"table\":[{\"cells\":{\"fill\":{\"color\":\"#EBF0F8\"},\"line\":{\"color\":\"white\"}},\"header\":{\"fill\":{\"color\":\"#C8D4E3\"},\"line\":{\"color\":\"white\"}},\"type\":\"table\"}]},\"layout\":{\"annotationdefaults\":{\"arrowcolor\":\"#2a3f5f\",\"arrowhead\":0,\"arrowwidth\":1},\"autotypenumbers\":\"strict\",\"coloraxis\":{\"colorbar\":{\"outlinewidth\":0,\"ticks\":\"\"}},\"colorscale\":{\"diverging\":[[0,\"#8e0152\"],[0.1,\"#c51b7d\"],[0.2,\"#de77ae\"],[0.3,\"#f1b6da\"],[0.4,\"#fde0ef\"],[0.5,\"#f7f7f7\"],[0.6,\"#e6f5d0\"],[0.7,\"#b8e186\"],[0.8,\"#7fbc41\"],[0.9,\"#4d9221\"],[1,\"#276419\"]],\"sequential\":[[0.0,\"#0d0887\"],[0.1111111111111111,\"#46039f\"],[0.2222222222222222,\"#7201a8\"],[0.3333333333333333,\"#9c179e\"],[0.4444444444444444,\"#bd3786\"],[0.5555555555555556,\"#d8576b\"],[0.6666666666666666,\"#ed7953\"],[0.7777777777777778,\"#fb9f3a\"],[0.8888888888888888,\"#fdca26\"],[1.0,\"#f0f921\"]],\"sequentialminus\":[[0.0,\"#0d0887\"],[0.1111111111111111,\"#46039f\"],[0.2222222222222222,\"#7201a8\"],[0.3333333333333333,\"#9c179e\"],[0.4444444444444444,\"#bd3786\"],[0.5555555555555556,\"#d8576b\"],[0.6666666666666666,\"#ed7953\"],[0.7777777777777778,\"#fb9f3a\"],[0.8888888888888888,\"#fdca26\"],[1.0,\"#f0f921\"]]},\"colorway\":[\"#636efa\",\"#EF553B\",\"#00cc96\",\"#ab63fa\",\"#FFA15A\",\"#19d3f3\",\"#FF6692\",\"#B6E880\",\"#FF97FF\",\"#FECB52\"],\"font\":{\"color\":\"#2a3f5f\"},\"geo\":{\"bgcolor\":\"white\",\"lakecolor\":\"white\",\"landcolor\":\"#E5ECF6\",\"showlakes\":true,\"showland\":true,\"subunitcolor\":\"white\"},\"hoverlabel\":{\"align\":\"left\"},\"hovermode\":\"closest\",\"mapbox\":{\"style\":\"light\"},\"paper_bgcolor\":\"white\",\"plot_bgcolor\":\"#E5ECF6\",\"polar\":{\"angularaxis\":{\"gridcolor\":\"white\",\"linecolor\":\"white\",\"ticks\":\"\"},\"bgcolor\":\"#E5ECF6\",\"radialaxis\":{\"gridcolor\":\"white\",\"linecolor\":\"white\",\"ticks\":\"\"}},\"scene\":{\"xaxis\":{\"backgroundcolor\":\"#E5ECF6\",\"gridcolor\":\"white\",\"gridwidth\":2,\"linecolor\":\"white\",\"showbackground\":true,\"ticks\":\"\",\"zerolinecolor\":\"white\"},\"yaxis\":{\"backgroundcolor\":\"#E5ECF6\",\"gridcolor\":\"white\",\"gridwidth\":2,\"linecolor\":\"white\",\"showbackground\":true,\"ticks\":\"\",\"zerolinecolor\":\"white\"},\"zaxis\":{\"backgroundcolor\":\"#E5ECF6\",\"gridcolor\":\"white\",\"gridwidth\":2,\"linecolor\":\"white\",\"showbackground\":true,\"ticks\":\"\",\"zerolinecolor\":\"white\"}},\"shapedefaults\":{\"line\":{\"color\":\"#2a3f5f\"}},\"ternary\":{\"aaxis\":{\"gridcolor\":\"white\",\"linecolor\":\"white\",\"ticks\":\"\"},\"baxis\":{\"gridcolor\":\"white\",\"linecolor\":\"white\",\"ticks\":\"\"},\"bgcolor\":\"#E5ECF6\",\"caxis\":{\"gridcolor\":\"white\",\"linecolor\":\"white\",\"ticks\":\"\"}},\"title\":{\"x\":0.05},\"xaxis\":{\"automargin\":true,\"gridcolor\":\"white\",\"linecolor\":\"white\",\"ticks\":\"\",\"title\":{\"standoff\":15},\"zerolinecolor\":\"white\",\"zerolinewidth\":2},\"yaxis\":{\"automargin\":true,\"gridcolor\":\"white\",\"linecolor\":\"white\",\"ticks\":\"\",\"title\":{\"standoff\":15},\"zerolinecolor\":\"white\",\"zerolinewidth\":2}}},\"geo\":{\"domain\":{\"x\":[0.0,1.0],\"y\":[0.0,1.0]},\"center\":{},\"scope\":\"usa\"},\"coloraxis\":{\"colorbar\":{\"title\":{\"text\":\"Contractor Reliance\"}},\"colorscale\":[[0.0,\"#440154\"],[0.1111111111111111,\"#482878\"],[0.2222222222222222,\"#3e4989\"],[0.3333333333333333,\"#31688e\"],[0.4444444444444444,\"#26828e\"],[0.5555555555555556,\"#1f9e89\"],[0.6666666666666666,\"#35b779\"],[0.7777777777777778,\"#6ece58\"],[0.8888888888888888,\"#b5de2b\"],[1.0,\"#fde725\"]]},\"legend\":{\"tracegroupgap\":0},\"title\":{\"text\":\"Contractor Reliance Ratio by State\"}},                        {\"responsive\": true}                    )                };                            </script>        </div>\n</body>\n</html>",
       "datasetInfos": [],
       "metadata": {},
       "removedWidgets": [],
       "textData": null,
       "type": "htmlSandbox"
      }
     },
     "output_type": "display_data"
    }
   ],
   "source": [
    "import plotly.express as px\n",
    "quantiles = nurse_staffing_df.approxQuantile(\"contractor_reliance_ratio\", [0.33, 0.66], 0.01)\n",
    "low_quantile = quantiles[0]\n",
    "high_quantile = quantiles[1]\n",
    "\n",
    "state_view = nurse_staffing_df.groupBy(\"STATE\").agg(\n",
    "    F.sum(\"Total_contracting_Hours\").alias(\"total_contractor_hours\"),\n",
    "    F.sum(\"Total_employee_Hours\").alias(\"total_employee_hours\"),\n",
    "    F.sum(\"MDScensus\").alias(\"total_resident_census\"),\n",
    "    F.sum(\"Total_Nursing_Hours\").alias(\"Total_nursing_Hours\"),\n",
    "    F.countDistinct(\"WorkDate\").alias(\"total_days\") \n",
    ")\n",
    "state_view = state_view.withColumn(\n",
    "    'contractor_reliance_ratio', \n",
    "    F.col('total_contractor_hours') / F.col(\"Total_nursing_Hours\")\n",
    ")\n",
    "quantiles = state_view.approxQuantile(\"contractor_reliance_ratio\", [0.33, 0.66], 0.01)\n",
    "low_quantile = quantiles[0]\n",
    "high_quantile = quantiles[1]\n",
    "\n",
    "state_view = state_view.withColumn(\n",
    "    'Reliance on Contracting',\n",
    "    F.when(F.col('contractor_reliance_ratio') <= low_quantile, 'Low Reliance')\n",
    "    .when((F.col('contractor_reliance_ratio') > low_quantile) & (F.col('contractor_reliance_ratio') <= high_quantile), 'Medium Reliance')\n",
    "    .otherwise('High Reliance')\n",
    ")\n",
    "\n",
    "state_vals = state_view.select(\"STATE\").collect()\n",
    "crr_vals = state_view.select(\"contractor_reliance_ratio\").collect()\n",
    "data = {\n",
    "    'State' : [row[\"STATE\"] for row in state_vals],\n",
    "    'Contractor Reliance' : [row[\"contractor_reliance_ratio\"] for row in crr_vals]\n",
    "}\n",
    "\n",
    "df = pd.DataFrame(data)\n",
    "\n",
    "\n",
    "fig = px.choropleth(df, \n",
    "                    locations='State', \n",
    "                    locationmode=\"USA-states\", \n",
    "                    color='Contractor Reliance', \n",
    "                    color_continuous_scale=\"Viridis\", \n",
    "                    scope=\"usa\",\n",
    "                    title=\"Contractor Reliance Ratio by State\")\n",
    "\n",
    "fig.show()\n",
    "# category_counts = state_view.groupBy(\"STATE\", \"reliance_category\").agg(F.count(\"*\").alias(\"count\"))\n",
    "# category_counts.display()"
   ]
  },
  {
   "cell_type": "code",
   "execution_count": 0,
   "metadata": {
    "application/vnd.databricks.v1+cell": {
     "cellMetadata": {
      "byteLimit": 2048000,
      "rowLimit": 10000
     },
     "inputWidgets": {},
     "nuid": "df21575a-8f45-4eb2-b656-5ee3f20d53f1",
     "showTitle": false,
     "title": ""
    }
   },
   "outputs": [],
   "source": []
  },
  {
   "cell_type": "code",
   "execution_count": 0,
   "metadata": {
    "application/vnd.databricks.v1+cell": {
     "cellMetadata": {
      "byteLimit": 2048000,
      "rowLimit": 10000
     },
     "inputWidgets": {},
     "nuid": "0d815dc6-bbd6-4b76-97e4-da9a783324b9",
     "showTitle": false,
     "title": ""
    }
   },
   "outputs": [
    {
     "output_type": "display_data",
     "data": {
      "text/html": [
       "<style scoped>\n",
       "  .table-result-container {\n",
       "    max-height: 300px;\n",
       "    overflow: auto;\n",
       "  }\n",
       "  table, th, td {\n",
       "    border: 1px solid black;\n",
       "    border-collapse: collapse;\n",
       "  }\n",
       "  th, td {\n",
       "    padding: 5px;\n",
       "  }\n",
       "  th {\n",
       "    text-align: left;\n",
       "  }\n",
       "</style><div class='table-result-container'><table class='table-result'><thead style='background-color: white'><tr><th>STATE</th><th>contractor_reliance_ratio</th></tr></thead><tbody><tr><td>VT</td><td>0.3226349250671943</td></tr><tr><td>ME</td><td>0.18606770610423906</td></tr><tr><td>NH</td><td>0.1773764769971579</td></tr><tr><td>PA</td><td>0.17192166242729762</td></tr><tr><td>NJ</td><td>0.16335610075621385</td></tr><tr><td>ND</td><td>0.1413256539804502</td></tr><tr><td>DE</td><td>0.1403628173861172</td></tr><tr><td>OR</td><td>0.13217791047941377</td></tr><tr><td>NY</td><td>0.13111921646196112</td></tr><tr><td>AK</td><td>0.1296771993661699</td></tr></tbody></table></div>"
      ]
     },
     "metadata": {
      "application/vnd.databricks.v1+output": {
       "addedWidgets": {},
       "aggData": [],
       "aggError": "",
       "aggOverflow": false,
       "aggSchema": [],
       "aggSeriesLimitReached": false,
       "aggType": "",
       "arguments": {},
       "columnCustomDisplayInfos": {},
       "data": [
        [
         "VT",
         0.3226349250671943
        ],
        [
         "ME",
         0.18606770610423906
        ],
        [
         "NH",
         0.1773764769971579
        ],
        [
         "PA",
         0.17192166242729762
        ],
        [
         "NJ",
         0.16335610075621385
        ],
        [
         "ND",
         0.1413256539804502
        ],
        [
         "DE",
         0.1403628173861172
        ],
        [
         "OR",
         0.13217791047941377
        ],
        [
         "NY",
         0.13111921646196112
        ],
        [
         "AK",
         0.1296771993661699
        ]
       ],
       "datasetInfos": [],
       "dbfsResultPath": null,
       "isJsonSchema": true,
       "metadata": {},
       "overflow": false,
       "plotOptions": {
        "customPlotOptions": {},
        "displayType": "table",
        "pivotAggregation": null,
        "pivotColumns": null,
        "xColumns": null,
        "yColumns": null
       },
       "removedWidgets": [],
       "schema": [
        {
         "metadata": "{}",
         "name": "STATE",
         "type": "\"string\""
        },
        {
         "metadata": "{}",
         "name": "contractor_reliance_ratio",
         "type": "\"double\""
        }
       ],
       "type": "table"
      }
     },
     "output_type": "display_data"
    },
    {
     "output_type": "display_data",
     "data": {
      "text/plain": [
       "Databricks visualization. Run in Databricks to view."
      ]
     },
     "metadata": {
      "application/vnd.databricks.v1.subcommand+json": {
       "baseErrorDetails": null,
       "bindings": {},
       "collapsed": false,
       "command": "%python\n__backend_agg_display_orig = display\n__backend_agg_dfs = []\ndef __backend_agg_display_new(df):\n    __backend_agg_df_modules = [\"pandas.core.frame\", \"databricks.koalas.frame\", \"pyspark.sql.dataframe\", \"pyspark.pandas.frame\", \"pyspark.sql.connect.dataframe\"]\n    if (type(df).__module__ in __backend_agg_df_modules and type(df).__name__ == 'DataFrame') or isinstance(df, list):\n        __backend_agg_dfs.append(df)\n\ndisplay = __backend_agg_display_new\n\ndef __backend_agg_user_code_fn():\n    import base64\n    exec(base64.standard_b64decode(\"c3RhdGVfdmlld19zb3J0ZWQgPSBzdGF0ZV92aWV3Lm9yZGVyQnkoRi5jb2woImNvbnRyYWN0b3JfcmVsaWFuY2VfcmF0aW8iKS5kZXNjKCkpLmxpbWl0KDEwKQpzdGF0ZV92aWV3X3NvcnRlZC5zZWxlY3QoIlNUQVRFIiwgImNvbnRyYWN0b3JfcmVsaWFuY2VfcmF0aW8iKS5kaXNwbGF5KCk=\").decode())\n\ntry:\n    # run user code\n    __backend_agg_user_code_fn()\n\n    #reset display function\n    display = __backend_agg_display_orig\n\n    if len(__backend_agg_dfs) > 0:\n        # create a temp view\n        if type(__backend_agg_dfs[0]).__module__ == \"databricks.koalas.frame\":\n            # koalas dataframe\n            __backend_agg_dfs[0].to_spark().createOrReplaceTempView(\"DatabricksViewb2e36c7\")\n        elif type(__backend_agg_dfs[0]).__module__ == \"pandas.core.frame\" or isinstance(__backend_agg_dfs[0], list):\n            # pandas dataframe\n            spark.createDataFrame(__backend_agg_dfs[0]).createOrReplaceTempView(\"DatabricksViewb2e36c7\")\n        else:\n            __backend_agg_dfs[0].createOrReplaceTempView(\"DatabricksViewb2e36c7\")\n        #run backend agg\n        display(spark.sql(\"\"\"WITH q AS (select * from DatabricksViewb2e36c7) SELECT `STATE`,SUM(`contractor_reliance_ratio`) `column_e82b391f6` FROM q GROUP BY `STATE`\"\"\"))\n    else:\n        displayHTML(\"dataframe no longer exists. If you're using dataframe.display(), use display(dataframe) instead.\")\n\n\nfinally:\n    spark.sql(\"drop view if exists DatabricksViewb2e36c7\")\n    display = __backend_agg_display_orig\n    del __backend_agg_display_new\n    del __backend_agg_display_orig\n    del __backend_agg_dfs\n    del __backend_agg_user_code_fn\n\n",
       "commandTitle": "Visualization 1",
       "commandType": "auto",
       "commandVersion": 0,
       "commentThread": [],
       "commentsVisible": false,
       "contentSha256Hex": null,
       "customPlotOptions": {
        "redashChart": [
         {
          "key": "type",
          "value": "CHART"
         },
         {
          "key": "options",
          "value": {
           "alignYAxesAtZero": true,
           "coefficient": 1,
           "columnConfigurationMap": {
            "x": {
             "column": "STATE",
             "id": "column_e82b391f3"
            },
            "y": [
             {
              "column": "contractor_reliance_ratio",
              "id": "column_e82b391f6",
              "transform": "SUM"
             }
            ]
           },
           "dateTimeFormat": "DD/MM/YYYY HH:mm",
           "direction": {
            "type": "counterclockwise"
           },
           "error_y": {
            "type": "data",
            "visible": true
           },
           "globalSeriesType": "column",
           "isAggregationOn": true,
           "legend": {
            "traceorder": "normal"
           },
           "missingValuesAsZero": true,
           "numberFormat": "0,0.[00000]",
           "percentFormat": "0[.]00%",
           "series": {
            "error_y": {
             "type": "data",
             "visible": true
            },
            "stacking": null
           },
           "seriesOptions": {
            "column_e82b391f6": {
             "color": "#8CFFB4",
             "type": "column",
             "yAxis": 0
            }
           },
           "showDataLabels": false,
           "sizemode": "diameter",
           "sortX": true,
           "sortY": true,
           "swappedAxes": true,
           "textFormat": "",
           "useAggregationsUi": true,
           "valuesOptions": {},
           "version": 2,
           "xAxis": {
            "labels": {
             "enabled": true
            },
            "type": "-"
           },
           "yAxis": [
            {
             "type": "-"
            },
            {
             "opposite": true,
             "type": "-"
            }
           ]
          }
         }
        ]
       },
       "datasetPreviewNameToCmdIdMap": {},
       "diffDeletes": [],
       "diffInserts": [],
       "displayType": "redashChart",
       "error": null,
       "errorDetails": null,
       "errorSummary": null,
       "errorTraceType": null,
       "finishTime": 0,
       "globalVars": {},
       "guid": "",
       "height": "auto",
       "hideCommandCode": false,
       "hideCommandResult": false,
       "iPythonMetadata": null,
       "inputWidgets": {},
       "isLockedInExamMode": false,
       "latestUser": "a user",
       "latestUserId": null,
       "listResultMetadata": null,
       "metadata": {
        "byteLimit": 2048000,
        "rowLimit": 10000
       },
       "nuid": "40342fe5-b1fe-4292-a55b-3f459d194ab5",
       "origId": 0,
       "parentHierarchy": [],
       "pivotAggregation": null,
       "pivotColumns": null,
       "position": 7.87109375,
       "resultDbfsErrorMessage": null,
       "resultDbfsStatus": "INLINED_IN_TREE",
       "results": null,
       "showCommandTitle": false,
       "startTime": 0,
       "state": "finished",
       "streamStates": {},
       "subcommandOptions": {
        "queryPlan": {
         "groups": [
          {
           "column": "STATE",
           "type": "column"
          }
         ],
         "selects": [
          {
           "column": "STATE",
           "type": "column"
          },
          {
           "alias": "column_e82b391f6",
           "args": [
            {
             "column": "contractor_reliance_ratio",
             "type": "column"
            }
           ],
           "function": "SUM",
           "type": "function"
          }
         ]
        }
       },
       "submitTime": 0,
       "subtype": "tableResultSubCmd.visualization",
       "tableResultIndex": 0,
       "tableResultSettingsMap": null,
       "useConsistentColors": false,
       "version": "CommandV1",
       "width": "auto",
       "workflows": [],
       "xColumns": null,
       "yColumns": null
      }
     },
     "output_type": "display_data"
    }
   ],
   "source": [
    "state_view_sorted = state_view.orderBy(F.col(\"contractor_reliance_ratio\").desc()).limit(10)\n",
    "state_view_sorted.select(\"STATE\", \"contractor_reliance_ratio\").display()"
   ]
  },
  {
   "cell_type": "code",
   "execution_count": 0,
   "metadata": {
    "application/vnd.databricks.v1+cell": {
     "cellMetadata": {
      "byteLimit": 2048000,
      "rowLimit": 10000
     },
     "inputWidgets": {},
     "nuid": "fe315020-239f-4356-9cdc-4b5c609285d4",
     "showTitle": false,
     "title": ""
    }
   },
   "outputs": [
    {
     "output_type": "display_data",
     "data": {
      "text/html": [
       "<style scoped>\n",
       "  .table-result-container {\n",
       "    max-height: 300px;\n",
       "    overflow: auto;\n",
       "  }\n",
       "  table, th, td {\n",
       "    border: 1px solid black;\n",
       "    border-collapse: collapse;\n",
       "  }\n",
       "  th, td {\n",
       "    padding: 5px;\n",
       "  }\n",
       "  th {\n",
       "    text-align: left;\n",
       "  }\n",
       "</style><div class='table-result-container'><table class='table-result'><thead style='background-color: white'><tr><th>Risk of Short Staffing</th><th>Reliance on Contracting</th><th># of Nursing Homes</th><th>Market Share (%)</th></tr></thead><tbody><tr><td>High-Risk</td><td>High Reliance</td><td>3125</td><td>21.366060440311774</td></tr><tr><td>High-Risk</td><td>Low Reliance</td><td>3773</td><td>25.796526733214826</td></tr><tr><td>High-Risk</td><td>Medium Reliance</td><td>1736</td><td>11.869273895801996</td></tr><tr><td>Low-Risk</td><td>High Reliance</td><td>1185</td><td>8.102010118966223</td></tr><tr><td>Low-Risk</td><td>Low Reliance</td><td>1101</td><td>7.527690414330644</td></tr><tr><td>Low-Risk</td><td>Medium Reliance</td><td>573</td><td>3.917680842335567</td></tr><tr><td>Moderate-Risk</td><td>High Reliance</td><td>1201</td><td>8.211404348420622</td></tr><tr><td>Moderate-Risk</td><td>Low Reliance</td><td>1311</td><td>8.963489675919595</td></tr><tr><td>Moderate-Risk</td><td>Medium Reliance</td><td>621</td><td>4.245863530698755</td></tr></tbody></table></div>"
      ]
     },
     "metadata": {
      "application/vnd.databricks.v1+output": {
       "addedWidgets": {},
       "aggData": [],
       "aggError": "",
       "aggOverflow": false,
       "aggSchema": [],
       "aggSeriesLimitReached": false,
       "aggType": "",
       "arguments": {},
       "columnCustomDisplayInfos": {},
       "data": [
        [
         "High-Risk",
         "High Reliance",
         3125,
         21.366060440311774
        ],
        [
         "High-Risk",
         "Low Reliance",
         3773,
         25.796526733214826
        ],
        [
         "High-Risk",
         "Medium Reliance",
         1736,
         11.869273895801996
        ],
        [
         "Low-Risk",
         "High Reliance",
         1185,
         8.102010118966223
        ],
        [
         "Low-Risk",
         "Low Reliance",
         1101,
         7.527690414330644
        ],
        [
         "Low-Risk",
         "Medium Reliance",
         573,
         3.917680842335567
        ],
        [
         "Moderate-Risk",
         "High Reliance",
         1201,
         8.211404348420622
        ],
        [
         "Moderate-Risk",
         "Low Reliance",
         1311,
         8.963489675919595
        ],
        [
         "Moderate-Risk",
         "Medium Reliance",
         621,
         4.245863530698755
        ]
       ],
       "datasetInfos": [],
       "dbfsResultPath": null,
       "isJsonSchema": true,
       "metadata": {},
       "overflow": false,
       "plotOptions": {
        "customPlotOptions": {},
        "displayType": "table",
        "pivotAggregation": null,
        "pivotColumns": null,
        "xColumns": null,
        "yColumns": null
       },
       "removedWidgets": [],
       "schema": [
        {
         "metadata": "{}",
         "name": "Risk of Short Staffing",
         "type": "\"string\""
        },
        {
         "metadata": "{}",
         "name": "Reliance on Contracting",
         "type": "\"string\""
        },
        {
         "metadata": "{}",
         "name": "# of Nursing Homes",
         "type": "\"long\""
        },
        {
         "metadata": "{}",
         "name": "Market Share (%)",
         "type": "\"double\""
        }
       ],
       "type": "table"
      }
     },
     "output_type": "display_data"
    },
    {
     "output_type": "display_data",
     "data": {
      "text/plain": [
       "Databricks visualization. Run in Databricks to view."
      ]
     },
     "metadata": {
      "application/vnd.databricks.v1.subcommand+json": {
       "baseErrorDetails": null,
       "bindings": {},
       "collapsed": false,
       "command": "df_agg_home = df_agg_home.withColumn(\n    \"HPRD\", \n    F.col(\"Total_nursing_Hours\") / F.col(\"total_resident_census\")\n)\n\ndf_agg_home = df_agg_home.withColumn(\n    \"Risk of Short Staffing\",\n    F.when(col(\"HPRD\") < 3.5, \"High-Risk\")  \n    .when((col(\"HPRD\") >= 3.5) & (col(\"HPRD\") < 4.0), \"Moderate-Risk\")  \n    .otherwise(\"Low-Risk\")\n)\ndf_agg_home_market = df_agg_home.groupBy(\"Risk of Short Staffing\", \"Reliance on Contracting\").agg(F.count(\"*\").alias(\"# of Nursing Homes\"))\n\ndf_agg_home_market = df_agg_home_market.withColumn(\n    \"Market Share (%)\",\n    (F.col(\"# of Nursing Homes\") / df_agg_home.count())*100\n)\n#print(df_agg_home.count())\ndf_agg_home_market.select(\"Risk of Short Staffing\", \"Reliance on Contracting\", \"# of Nursing Homes\", \"Market Share (%)\").sort(\"Risk of Short Staffing\", \"Reliance on Contracting\").display()\n",
       "commandTitle": "Visualization 1",
       "commandType": "auto",
       "commandVersion": 0,
       "commentThread": [],
       "commentsVisible": false,
       "contentSha256Hex": null,
       "customPlotOptions": {
        "redashChart": [
         {
          "key": "type",
          "value": "TABLE"
         },
         {
          "key": "options",
          "value": {
           "columns": [
            {
             "alignContent": "left",
             "allowHTML": false,
             "allowSearch": false,
             "booleanValues": [
              "false",
              "true"
             ],
             "displayAs": "string",
             "highlightLinks": false,
             "imageHeight": "",
             "imageTitleTemplate": "{{ @ }}",
             "imageUrlTemplate": "{{ @ }}",
             "imageWidth": "",
             "linkOpenInNewTab": true,
             "linkTextTemplate": "{{ @ }}",
             "linkTitleTemplate": "{{ @ }}",
             "linkUrlTemplate": "{{ @ }}",
             "name": "Risk of Short Staffing",
             "order": 100000,
             "preserveWhitespace": false,
             "title": "Risk of Short Staffing",
             "type": "string",
             "useMonospaceFont": false,
             "visible": true
            },
            {
             "alignContent": "left",
             "allowHTML": false,
             "allowSearch": false,
             "booleanValues": [
              "false",
              "true"
             ],
             "displayAs": "string",
             "highlightLinks": false,
             "imageHeight": "",
             "imageTitleTemplate": "{{ @ }}",
             "imageUrlTemplate": "{{ @ }}",
             "imageWidth": "",
             "linkOpenInNewTab": true,
             "linkTextTemplate": "{{ @ }}",
             "linkTitleTemplate": "{{ @ }}",
             "linkUrlTemplate": "{{ @ }}",
             "name": "Reliance on Contracting",
             "order": 100001,
             "preserveWhitespace": false,
             "title": "Reliance on Contracting",
             "type": "string",
             "useMonospaceFont": false,
             "visible": true
            },
            {
             "alignContent": "right",
             "allowHTML": false,
             "allowSearch": false,
             "booleanValues": [
              "false",
              "true"
             ],
             "displayAs": "number",
             "highlightLinks": false,
             "imageHeight": "",
             "imageTitleTemplate": "{{ @ }}",
             "imageUrlTemplate": "{{ @ }}",
             "imageWidth": "",
             "linkOpenInNewTab": true,
             "linkTextTemplate": "{{ @ }}",
             "linkTitleTemplate": "{{ @ }}",
             "linkUrlTemplate": "{{ @ }}",
             "name": "# of Nursing Homes",
             "numberFormat": "0",
             "order": 100002,
             "preserveWhitespace": false,
             "title": "# of Nursing Homes",
             "type": "integer",
             "useMonospaceFont": false,
             "visible": true
            },
            {
             "alignContent": "right",
             "allowHTML": false,
             "allowSearch": false,
             "booleanValues": [
              "false",
              "true"
             ],
             "displayAs": "number",
             "highlightLinks": false,
             "imageHeight": "",
             "imageTitleTemplate": "{{ @ }}",
             "imageUrlTemplate": "{{ @ }}",
             "imageWidth": "",
             "linkOpenInNewTab": true,
             "linkTextTemplate": "{{ @ }}",
             "linkTitleTemplate": "{{ @ }}",
             "linkUrlTemplate": "{{ @ }}",
             "name": "Market Share (%)",
             "numberFormat": "0.00",
             "order": 100003,
             "preserveWhitespace": false,
             "title": "Market Share (%)",
             "type": "float",
             "useMonospaceFont": false,
             "visible": true
            }
           ],
           "condensed": true,
           "itemsPerPage": 25,
           "paginationSize": "default",
           "version": 2,
           "withRowNumber": false
          }
         }
        ]
       },
       "datasetPreviewNameToCmdIdMap": {},
       "diffDeletes": [],
       "diffInserts": [],
       "displayType": "redashChart",
       "error": null,
       "errorDetails": null,
       "errorSummary": null,
       "errorTraceType": null,
       "finishTime": 0,
       "globalVars": {},
       "guid": "",
       "height": "auto",
       "hideCommandCode": false,
       "hideCommandResult": false,
       "iPythonMetadata": null,
       "inputWidgets": {},
       "isLockedInExamMode": false,
       "latestUser": "a user",
       "latestUserId": null,
       "listResultMetadata": null,
       "metadata": {
        "byteLimit": 2048000,
        "rowLimit": 10000
       },
       "nuid": "ad2ddb47-977b-4aad-a803-8e6fbb3d3cb0",
       "origId": 0,
       "parentHierarchy": [],
       "pivotAggregation": null,
       "pivotColumns": null,
       "position": 7.875,
       "resultDbfsErrorMessage": null,
       "resultDbfsStatus": "INLINED_IN_TREE",
       "results": null,
       "showCommandTitle": false,
       "startTime": 0,
       "state": "finished",
       "streamStates": {},
       "subcommandOptions": {},
       "submitTime": 0,
       "subtype": "tableResultSubCmd.visualization",
       "tableResultIndex": 0,
       "tableResultSettingsMap": null,
       "useConsistentColors": false,
       "version": "CommandV1",
       "width": "auto",
       "workflows": [],
       "xColumns": null,
       "yColumns": null
      }
     },
     "output_type": "display_data"
    }
   ],
   "source": [
    "df_agg_home = df_agg_home.withColumn(\n",
    "    \"HPRD\", \n",
    "    F.col(\"Total_nursing_Hours\") / F.col(\"total_resident_census\")\n",
    ")\n",
    "\n",
    "df_agg_home = df_agg_home.withColumn(\n",
    "    \"Risk of Short Staffing\",\n",
    "    F.when(col(\"HPRD\") < 3.5, \"High-Risk\")  \n",
    "    .when((col(\"HPRD\") >= 3.5) & (col(\"HPRD\") < 4.0), \"Moderate-Risk\")  \n",
    "    .otherwise(\"Low-Risk\")\n",
    ")\n",
    "df_agg_home_market = df_agg_home.groupBy(\"Risk of Short Staffing\", \"Reliance on Contracting\").agg(F.count(\"*\").alias(\"# of Nursing Homes\"))\n",
    "\n",
    "df_agg_home_market = df_agg_home_market.withColumn(\n",
    "    \"Market Share (%)\",\n",
    "    (F.col(\"# of Nursing Homes\") / df_agg_home.count())*100\n",
    ")\n",
    "#print(df_agg_home.count())\n",
    "df_agg_home_market.select(\"Risk of Short Staffing\", \"Reliance on Contracting\", \"# of Nursing Homes\", \"Market Share (%)\").sort(\"Risk of Short Staffing\", \"Reliance on Contracting\").display()\n"
   ]
  },
  {
   "cell_type": "code",
   "execution_count": 0,
   "metadata": {
    "application/vnd.databricks.v1+cell": {
     "cellMetadata": {
      "byteLimit": 2048000,
      "rowLimit": 10000
     },
     "inputWidgets": {},
     "nuid": "0600de38-fd61-4748-802f-16d443ba578d",
     "showTitle": false,
     "title": ""
    }
   },
   "outputs": [
    {
     "output_type": "stream",
     "name": "stdout",
     "output_type": "stream",
     "text": [
      "root\n |-- CMS Certification Number (CCN): string (nullable = true)\n |-- Provider Name: string (nullable = true)\n |-- Provider Address: string (nullable = true)\n |-- City/Town: string (nullable = true)\n |-- State: string (nullable = true)\n |-- ZIP Code: integer (nullable = true)\n |-- Penalty Date: date (nullable = true)\n |-- Penalty Type: string (nullable = true)\n |-- Fine Amount: integer (nullable = true)\n |-- Payment Denial Start Date: date (nullable = true)\n |-- Payment Denial Length in Days: integer (nullable = true)\n |-- Location: string (nullable = true)\n |-- Processing Date: date (nullable = true)\n |-- Penalty_Date: date (nullable = true)\n\n"
     ]
    }
   ],
   "source": [
    "file_path = \"/FileStore/tables/NH_Penalties_Aug2024.csv\"  # update this with the actual file path\n",
    "nursing_home_penalties = spark.read.csv(file_path, header=True, inferSchema=True, encoding=\"UTF-8\" )\n",
    "nursing_home_penalties = nursing_home_penalties.withColumn(\"Penalty_Date\", F.to_date(F.col(\"Penalty Date\"), \"yyyy-MM-dd\"))\n",
    "\n",
    "\n",
    "nursing_home_penalties = nursing_home_penalties.filter(\n",
    "    (F.col(\"Penalty_Date\") >= F.lit(\"2024-01-01\")) & (F.col(\"Penalty_Date\") <= F.lit(\"2024-03-31\"))\n",
    ")\n",
    "nursing_home_penalties.printSchema()\n",
    "#nursing_home_penalties.display()\n"
   ]
  },
  {
   "cell_type": "code",
   "execution_count": 0,
   "metadata": {
    "application/vnd.databricks.v1+cell": {
     "cellMetadata": {
      "byteLimit": 2048000,
      "rowLimit": 10000
     },
     "inputWidgets": {},
     "nuid": "53df372d-776f-4435-a0e8-663922387694",
     "showTitle": false,
     "title": ""
    }
   },
   "outputs": [
    {
     "output_type": "stream",
     "name": "stdout",
     "output_type": "stream",
     "text": [
      "root\n |-- PROVNUM: string (nullable = true)\n |-- total_contractor_hours: double (nullable = true)\n |-- total_employee_hours: double (nullable = true)\n |-- total_resident_census: long (nullable = true)\n |-- Total_nursing_Hours: double (nullable = true)\n |-- total_days: long (nullable = false)\n |-- contractor_reliance_ratio: double (nullable = true)\n |-- Reliance on Contracting: string (nullable = false)\n |-- HPRD: double (nullable = true)\n |-- Risk of Short Staffing: string (nullable = false)\n |-- num_fines: long (nullable = true)\n |-- num_payment_denials: long (nullable = true)\n |-- total_fine_amount: long (nullable = true)\n |-- total_payment_denial_length: long (nullable = true)\n\n"
     ]
    }
   ],
   "source": [
    "\n",
    "agg_penalties = nursing_home_penalties.groupBy(\"CMS Certification Number (CCN)\").agg(\n",
    "    F.count(F.when(F.col(\"Penalty Type\") == \"Fine\", True)).alias(\"num_fines\"),\n",
    "\n",
    "    F.count(F.when(F.col(\"Penalty Type\") == \"Payment Denial\", True)).alias(\"num_payment_denials\"),\n",
    "\n",
    "    F.sum(F.when(F.col(\"Penalty Type\") == \"Fine\", F.col(\"Fine Amount\")).otherwise(0)).alias(\"total_fine_amount\"),\n",
    "\n",
    "    F.sum(F.when(F.col(\"Penalty Type\") == \"Payment Denial\", \n",
    "                 F.col(\"Payment Denial Length in Days\")\n",
    "                ).otherwise(0)).alias(\"total_payment_denial_length\")\n",
    ")\n",
    "agg_penalties_filtered = agg_penalties.select(\n",
    "    col(\"CMS Certification Number (CCN)\").alias(\"PROVNUM\"),\n",
    "    \"num_fines\", \n",
    "    \"num_payment_denials\",\n",
    "    \"total_fine_amount\", \n",
    "    \"total_payment_denial_length\"\n",
    "    )\n",
    "    \n",
    "df_agg_home = df_agg_home.join(agg_penalties_filtered, on = \"PROVNUM\", how = \"Left\")\n",
    "df_agg_home.printSchema()\n"
   ]
  },
  {
   "cell_type": "code",
   "execution_count": 0,
   "metadata": {
    "application/vnd.databricks.v1+cell": {
     "cellMetadata": {
      "byteLimit": 2048000,
      "rowLimit": 10000
     },
     "inputWidgets": {},
     "nuid": "c36bf1eb-0566-4a95-bc5f-e277bfe6c0c7",
     "showTitle": false,
     "title": ""
    }
   },
   "outputs": [],
   "source": [
    "df_agg_home = df_agg_home.fillna(0, subset = [\"num_fines\", \"num_payment_denials\",\"total_fine_amount\", \"total_payment_denial_length\", \"contractor_reliance_ratio\"])\n",
    "#df_agg_home.display()"
   ]
  },
  {
   "cell_type": "code",
   "execution_count": 0,
   "metadata": {
    "application/vnd.databricks.v1+cell": {
     "cellMetadata": {
      "byteLimit": 2048000,
      "rowLimit": 10000
     },
     "inputWidgets": {},
     "nuid": "d98b0727-48bd-439b-99e7-e515d241223c",
     "showTitle": false,
     "title": ""
    }
   },
   "outputs": [
    {
     "output_type": "stream",
     "name": "stdout",
     "output_type": "stream",
     "text": [
      "14626\n"
     ]
    }
   ],
   "source": [
    "\n",
    "file_path = \"/FileStore/tables/NH_HealthCitations_Aug2024.csv\"  \n",
    "nursing_home_ssc = spark.read.csv(file_path, header=True, inferSchema=True, encoding=\"UTF-8\" )\n",
    "nursing_home_ssc = nursing_home_ssc.withColumn(\"Survey Date\", F.to_date(F.col(\"Survey Date\"), \"yyyy-MM-dd\"))\n",
    "\n",
    "print(df_agg_home.select(\"PROVNUM\").distinct().count())\n",
    "nursing_home_ssc = nursing_home_ssc.filter(\n",
    "    (F.col(\"Survey Date\") >= F.lit(\"2024-01-01\")) & (F.col(\"Survey Date\") <= F.lit(\"2024-03-31\"))\n",
    ")\n",
    "nursing_home_ssc = nursing_home_ssc.select(\n",
    "    col(\"CMS Certification Number (CCN)\").alias(\"PROVNUM\"),\n",
    "    \"Scope Severity Code\"\n",
    ")\n",
    "\n",
    "from pyspark.sql.window import Window\n",
    "from pyspark.sql import functions as F\n",
    "\n",
    "window = Window.partitionBy(\"PROVNUM\").orderBy(F.col(\"Scope Severity Code\").desc())\n",
    "\n",
    "df_with_rank = nursing_home_ssc.withColumn(\"rank\", F.row_number().over(window))\n",
    "\n",
    "nursing_home_ssc = df_with_rank.filter(F.col(\"rank\") == 1)\n",
    "\n",
    "#nursing_home_ssc.select(\"PROVNUM\", \"Scope Severity Code\").display()\n"
   ]
  },
  {
   "cell_type": "code",
   "execution_count": 0,
   "metadata": {
    "application/vnd.databricks.v1+cell": {
     "cellMetadata": {
      "byteLimit": 2048000,
      "rowLimit": 10000
     },
     "inputWidgets": {},
     "nuid": "8d53fdc3-31f7-4884-824f-ae7a403593fc",
     "showTitle": false,
     "title": ""
    }
   },
   "outputs": [
    {
     "output_type": "stream",
     "name": "stdout",
     "output_type": "stream",
     "text": [
      "root\n |-- PROVNUM: string (nullable = true)\n |-- total_contractor_hours: double (nullable = true)\n |-- total_employee_hours: double (nullable = true)\n |-- total_resident_census: long (nullable = true)\n |-- Total_nursing_Hours: double (nullable = true)\n |-- total_days: long (nullable = false)\n |-- contractor_reliance_ratio: double (nullable = false)\n |-- Reliance on Contracting: string (nullable = false)\n |-- HPRD: double (nullable = true)\n |-- Risk of Short Staffing: string (nullable = false)\n |-- num_fines: long (nullable = true)\n |-- num_payment_denials: long (nullable = true)\n |-- total_fine_amount: long (nullable = true)\n |-- total_payment_denial_length: long (nullable = true)\n |-- Scope Severity Code: string (nullable = true)\n |-- rank: integer (nullable = true)\n\n"
     ]
    }
   ],
   "source": [
    "\n",
    "df_agg_home = df_agg_home.join(nursing_home_ssc, on = \"PROVNUM\", how = \"Left\")\n",
    "df_agg_home.printSchema()\n",
    "#df_agg_home.display()\n"
   ]
  },
  {
   "cell_type": "code",
   "execution_count": 0,
   "metadata": {
    "application/vnd.databricks.v1+cell": {
     "cellMetadata": {
      "byteLimit": 2048000,
      "rowLimit": 10000
     },
     "inputWidgets": {},
     "nuid": "2d8ad36f-3d0d-4ca9-8df0-35ca0ce41ad2",
     "showTitle": false,
     "title": ""
    }
   },
   "outputs": [
    {
     "output_type": "stream",
     "name": "stdout",
     "output_type": "stream",
     "text": [
      "root\n |-- PROVNUM: string (nullable = true)\n |-- total_contractor_hours: double (nullable = true)\n |-- total_employee_hours: double (nullable = true)\n |-- total_resident_census: long (nullable = true)\n |-- Total_nursing_Hours: double (nullable = true)\n |-- total_days: long (nullable = false)\n |-- contractor_reliance_ratio: double (nullable = false)\n |-- Reliance on Contracting: string (nullable = false)\n |-- HPRD: double (nullable = true)\n |-- Risk of Short Staffing: string (nullable = false)\n |-- num_fines: long (nullable = true)\n |-- num_payment_denials: long (nullable = true)\n |-- total_fine_amount: long (nullable = true)\n |-- total_payment_denial_length: long (nullable = true)\n |-- Scope Severity Code: string (nullable = true)\n |-- rank: integer (nullable = true)\n\nNumber of null values in 'Scope Severity Code: 9418, Total Number of Values: 14626\n"
     ]
    }
   ],
   "source": [
    "null_count = df_agg_home.filter(F.col(\"Scope Severity Code\").isNull()).count()\n",
    "total = df_agg_home.count()\n",
    "df_agg_home.printSchema()\n",
    "print(f\"Number of null values in 'Scope Severity Code: {null_count}, Total Number of Values: {total}\")"
   ]
  },
  {
   "cell_type": "code",
   "execution_count": 0,
   "metadata": {
    "application/vnd.databricks.v1+cell": {
     "cellMetadata": {
      "byteLimit": 2048000,
      "rowLimit": 10000
     },
     "inputWidgets": {},
     "nuid": "84218e67-0684-427e-84bf-deffbc3bc7aa",
     "showTitle": false,
     "title": ""
    }
   },
   "outputs": [],
   "source": []
  },
  {
   "cell_type": "code",
   "execution_count": 0,
   "metadata": {
    "application/vnd.databricks.v1+cell": {
     "cellMetadata": {
      "byteLimit": 2048000,
      "rowLimit": 10000
     },
     "inputWidgets": {},
     "nuid": "e749fad1-0cf0-46f5-a7e6-427709c4065c",
     "showTitle": false,
     "title": ""
    }
   },
   "outputs": [
    {
     "output_type": "stream",
     "name": "stdout",
     "output_type": "stream",
     "text": [
      "+---------------+-----+\n|Severity Points|count|\n+---------------+-----+\n|           null| 9418|\n|              0|   26|\n|              2| 1700|\n|              4| 1355|\n|              6|  863|\n|             10|  709|\n|             20|   27|\n|             50|  367|\n|            100|  107|\n|            150|   54|\n+---------------+-----+\n\n"
     ]
    }
   ],
   "source": [
    "df_agg_home = df_agg_home.withColumn(\n",
    "    \"Severity Points\",\n",
    "    F.when(F.col(\"Scope Severity Code\") == \"J\", 50)\n",
    "     .when(F.col(\"Scope Severity Code\") == \"K\", 100)\n",
    "     .when(F.col(\"Scope Severity Code\") == \"L\", 150)\n",
    "     .when(F.col(\"Scope Severity Code\") == \"G\", 10)\n",
    "     .when(F.col(\"Scope Severity Code\") == \"H\", 20)\n",
    "     .when(F.col(\"Scope Severity Code\") == \"I\", 30)\n",
    "     .when(F.col(\"Scope Severity Code\") == \"D\", 2)\n",
    "     .when(F.col(\"Scope Severity Code\") == \"E\", 4)\n",
    "     .when(F.col(\"Scope Severity Code\") == \"F\", 6)\n",
    "     .when(F.col(\"Scope Severity Code\") == \"A\", 0)\n",
    "     .when(F.col(\"Scope Severity Code\") == \"B\", 0)\n",
    "     .when(F.col(\"Scope Severity Code\") == \"C\", 0)\n",
    "     .otherwise(None)\n",
    ")\n",
    "df_sev = df_agg_home.groupBy(\"Severity Points\").count()\n",
    "\n",
    "df_sev.orderBy(\"Severity Points\").show()"
   ]
  },
  {
   "cell_type": "code",
   "execution_count": 0,
   "metadata": {
    "application/vnd.databricks.v1+cell": {
     "cellMetadata": {
      "byteLimit": 2048000,
      "rowLimit": 10000
     },
     "inputWidgets": {},
     "nuid": "a762556c-231b-485c-b58b-e1ddfa417d40",
     "showTitle": false,
     "title": ""
    }
   },
   "outputs": [
    {
     "output_type": "stream",
     "name": "stdout",
     "output_type": "stream",
     "text": [
      "root\n |-- PROVNUM: string (nullable = true)\n |-- total_contractor_hours: double (nullable = true)\n |-- total_employee_hours: double (nullable = true)\n |-- total_resident_census: long (nullable = true)\n |-- Total_nursing_Hours: double (nullable = true)\n |-- total_days: long (nullable = false)\n |-- contractor_reliance_ratio: double (nullable = false)\n |-- Reliance on Contracting: string (nullable = false)\n |-- HPRD: double (nullable = true)\n |-- Risk of Short Staffing: string (nullable = false)\n |-- num_fines: long (nullable = true)\n |-- num_payment_denials: long (nullable = true)\n |-- total_fine_amount: long (nullable = true)\n |-- total_payment_denial_length: long (nullable = true)\n |-- Scope Severity Code: string (nullable = true)\n |-- rank: integer (nullable = true)\n |-- Severity Points: integer (nullable = true)\n\n"
     ]
    }
   ],
   "source": [
    "df_agg_home.printSchema()"
   ]
  },
  {
   "cell_type": "code",
   "execution_count": 0,
   "metadata": {
    "application/vnd.databricks.v1+cell": {
     "cellMetadata": {
      "byteLimit": 2048000,
      "rowLimit": 10000
     },
     "inputWidgets": {},
     "nuid": "1c98d97d-b40e-4332-8169-4f07b4e10af9",
     "showTitle": false,
     "title": ""
    }
   },
   "outputs": [
    {
     "output_type": "stream",
     "name": "stdout",
     "output_type": "stream",
     "text": [
      "+-------+--------------------+----------+\n|PROVNUM|            features|prediction|\n+-------+--------------------+----------+\n| 015171|(7,[2],[4.2829391...|        10|\n| 015371|(7,[2],[3.6745227...|        10|\n| 015425|(7,[2],[3.9094496...|        10|\n| 035059|(7,[0,1,2],[2535....|        10|\n| 055253|(7,[0,1,2],[479.5...|        10|\n+-------+--------------------+----------+\nonly showing top 5 rows\n\n"
     ]
    }
   ],
   "source": [
    "from pyspark.ml.feature import VectorAssembler\n",
    "from pyspark.sql import functions as F\n",
    "from pyspark.ml.clustering import KMeans\n",
    "from pyspark.ml.feature import StandardScaler\n",
    "assembler = VectorAssembler(inputCols=[\n",
    "    \"total_contractor_hours\", \"contractor_reliance_ratio\", \n",
    "    \"HPRD\", \"num_fines\", \"total_fine_amount\", \n",
    "    \"num_payment_denials\", \"total_payment_denial_length\"], \n",
    "    outputCol=\"features\")\n",
    "\n",
    "\n",
    "df_features = assembler.transform(df_agg_home)\n",
    "\n",
    "kmeans = KMeans(featuresCol=\"features\", k=12, seed=1)\n",
    "\n",
    "scaler = StandardScaler(inputCol=\"features\", outputCol=\"scaled_features\", withMean=True, withStd=True)\n",
    "df_scaled = scaler.fit(df_features).transform(df_features)\n",
    "\n",
    "model = kmeans.fit(df_scaled)\n",
    "\n",
    "df_clustered = model.transform(df_scaled)\n",
    "\n",
    "df_clustered.select(\"PROVNUM\", \"features\", \"prediction\").show(5)\n"
   ]
  },
  {
   "cell_type": "code",
   "execution_count": 0,
   "metadata": {
    "application/vnd.databricks.v1+cell": {
     "cellMetadata": {
      "byteLimit": 2048000,
      "rowLimit": 10000
     },
     "inputWidgets": {},
     "nuid": "f7f9cd7d-d0e6-4139-9f77-311b38819ad6",
     "showTitle": false,
     "title": ""
    }
   },
   "outputs": [
    {
     "output_type": "stream",
     "name": "stdout",
     "output_type": "stream",
     "text": [
      "+-------+-------------------+----------+\n|PROVNUM|Scope Severity Code|prediction|\n+-------+-------------------+----------+\n| 055253|                  G|        10|\n| 055074|                  D|        10|\n| 055304|                  F|        10|\n| 055356|                  G|        10|\n| 035166|                  D|        10|\n| 045373|                  E|        10|\n| 056214|                  E|        10|\n| 105119|                  D|        10|\n| 055563|                  D|        10|\n| 056258|                  D|        10|\n+-------+-------------------+----------+\nonly showing top 10 rows\n\n"
     ]
    }
   ],
   "source": [
    "\n",
    "df_non_null = df_clustered.filter(F.col(\"Scope Severity Code\").isNotNull())\n",
    "df_non_null.select(\"PROVNUM\", \"Scope Severity Code\", \"prediction\").show(10)\n"
   ]
  },
  {
   "cell_type": "code",
   "execution_count": 0,
   "metadata": {
    "application/vnd.databricks.v1+cell": {
     "cellMetadata": {
      "byteLimit": 2048000,
      "rowLimit": 10000
     },
     "inputWidgets": {},
     "nuid": "5ce4d197-7afc-40f2-95f7-bfab424fca58",
     "showTitle": false,
     "title": ""
    }
   },
   "outputs": [
    {
     "output_type": "stream",
     "name": "stdout",
     "output_type": "stream",
     "text": [
      "+----------+-------------------+-----+\n|prediction|Scope Severity Code|count|\n+----------+-------------------+-----+\n|         0|                  D|  294|\n|         1|                  J|    8|\n|         2|                  G|   68|\n|         3|                  K|    3|\n|         4|                  G|  177|\n|         5|                  J|   11|\n|         6|                  L|    1|\n|         7|                  G|   84|\n|         8|                  E|    8|\n|         9|                  D|   76|\n|        10|                  D| 1294|\n|        11|                  J|   22|\n+----------+-------------------+-----+\n\n"
     ]
    }
   ],
   "source": [
    "from pyspark.sql import functions as F\n",
    "from pyspark.sql.window import Window\n",
    "\n",
    "# Group by cluster (prediction) and Scope Severity Code to count occurrences\n",
    "cluster_code_counts = df_non_null.groupBy(\"prediction\", \"Scope Severity Code\").count()\n",
    "\n",
    "# Rank the Scope Severity Codes within each cluster by their frequency\n",
    "window = Window.partitionBy(\"prediction\").orderBy(F.desc(\"count\"))\n",
    "\n",
    "# Add a ranking column and keep the most common Scope Severity Code per cluster\n",
    "df_cluster_modes = cluster_code_counts.withColumn(\"rank\", F.row_number().over(window)).filter(F.col(\"rank\") == 1)\n",
    "\n",
    "# Show the most common Scope Severity Code for each cluster\n",
    "df_cluster_modes.select(\"prediction\", \"Scope Severity Code\", \"count\").show()\n"
   ]
  },
  {
   "cell_type": "code",
   "execution_count": 0,
   "metadata": {
    "application/vnd.databricks.v1+cell": {
     "cellMetadata": {
      "byteLimit": 2048000,
      "rowLimit": 10000
     },
     "inputWidgets": {},
     "nuid": "5e273a28-9a7d-42ac-aa18-250ffe180b21",
     "showTitle": false,
     "title": ""
    }
   },
   "outputs": [
    {
     "output_type": "stream",
     "name": "stdout",
     "output_type": "stream",
     "text": [
      "+----------+-------------------+-------------------+\n|prediction|Scope Severity Code|             purity|\n+----------+-------------------+-------------------+\n|         0|                  D|0.41761363636363635|\n|         1|                  J|0.27586206896551724|\n|         2|                  G| 0.4533333333333333|\n|         3|                  K|                0.5|\n|         4|                  G| 0.4338235294117647|\n|         5|                  J| 0.2619047619047619|\n|         6|                  L|                1.0|\n|         7|                  G|                0.4|\n|         8|                  E|0.38095238095238093|\n|         9|                  D| 0.4175824175824176|\n|        10|                  D| 0.3812610489098409|\n|        11|                  J|0.36065573770491804|\n+----------+-------------------+-------------------+\n\n"
     ]
    }
   ],
   "source": [
    "# Calculate the total number of rows in each cluster\n",
    "total_in_cluster = df_non_null.groupBy(\"prediction\").count().withColumnRenamed(\"count\", \"total_count\")\n",
    "\n",
    "# Join with the mode data to get the counts of the most common Scope Severity Code in each cluster\n",
    "cluster_purity = df_cluster_modes.join(total_in_cluster, on=\"prediction\")\n",
    "\n",
    "# Calculate the purity (percentage of rows in each cluster that have the most common Scope Severity Code)\n",
    "cluster_purity = cluster_purity.withColumn(\"purity\", F.col(\"count\") / F.col(\"total_count\"))\n",
    "\n",
    "# Show cluster purity\n",
    "cluster_purity.select(\"prediction\", \"Scope Severity Code\", \"purity\").show()\n"
   ]
  },
  {
   "cell_type": "code",
   "execution_count": 0,
   "metadata": {
    "application/vnd.databricks.v1+cell": {
     "cellMetadata": {
      "byteLimit": 2048000,
      "rowLimit": 10000
     },
     "inputWidgets": {},
     "nuid": "923aace9-a9e7-4d12-bff0-5ab4d35b8ea8",
     "showTitle": false,
     "title": ""
    }
   },
   "outputs": [
    {
     "output_type": "stream",
     "name": "stdout",
     "output_type": "stream",
     "text": [
      "Mode value of 'Scope Severity Code': D\n"
     ]
    },
    {
     "output_type": "display_data",
     "data": {
      "text/html": [
       "<style scoped>\n",
       "  .table-result-container {\n",
       "    max-height: 300px;\n",
       "    overflow: auto;\n",
       "  }\n",
       "  table, th, td {\n",
       "    border: 1px solid black;\n",
       "    border-collapse: collapse;\n",
       "  }\n",
       "  th, td {\n",
       "    padding: 5px;\n",
       "  }\n",
       "  th {\n",
       "    text-align: left;\n",
       "  }\n",
       "</style><div class='table-result-container'><table class='table-result'><thead style='background-color: white'><tr><th>Scope Severity Code</th><th>count</th></tr></thead><tbody><tr><td>null</td><td>9418</td></tr><tr><td>D</td><td>1700</td></tr><tr><td>E</td><td>1355</td></tr><tr><td>F</td><td>863</td></tr><tr><td>G</td><td>709</td></tr><tr><td>J</td><td>367</td></tr><tr><td>K</td><td>107</td></tr><tr><td>L</td><td>54</td></tr><tr><td>H</td><td>27</td></tr><tr><td>B</td><td>18</td></tr><tr><td>C</td><td>8</td></tr></tbody></table></div>"
      ]
     },
     "metadata": {
      "application/vnd.databricks.v1+output": {
       "addedWidgets": {},
       "aggData": [],
       "aggError": "",
       "aggOverflow": false,
       "aggSchema": [],
       "aggSeriesLimitReached": false,
       "aggType": "",
       "arguments": {},
       "columnCustomDisplayInfos": {},
       "data": [
        [
         null,
         9418
        ],
        [
         "D",
         1700
        ],
        [
         "E",
         1355
        ],
        [
         "F",
         863
        ],
        [
         "G",
         709
        ],
        [
         "J",
         367
        ],
        [
         "K",
         107
        ],
        [
         "L",
         54
        ],
        [
         "H",
         27
        ],
        [
         "B",
         18
        ],
        [
         "C",
         8
        ]
       ],
       "datasetInfos": [],
       "dbfsResultPath": null,
       "isJsonSchema": true,
       "metadata": {},
       "overflow": false,
       "plotOptions": {
        "customPlotOptions": {},
        "displayType": "table",
        "pivotAggregation": null,
        "pivotColumns": null,
        "xColumns": null,
        "yColumns": null
       },
       "removedWidgets": [],
       "schema": [
        {
         "metadata": "{}",
         "name": "Scope Severity Code",
         "type": "\"string\""
        },
        {
         "metadata": "{}",
         "name": "count",
         "type": "\"long\""
        }
       ],
       "type": "table"
      }
     },
     "output_type": "display_data"
    }
   ],
   "source": [
    "from pyspark.sql.window import Window\n",
    "from pyspark.sql import functions as F\n",
    "\n",
    "\n",
    "mode_value = df_agg_home.filter(F.col(\"Scope Severity Code\").isNotNull()) \\\n",
    "    .groupBy(\"Scope Severity Code\") \\\n",
    "    .count() \\\n",
    "    .orderBy(F.desc(\"count\")) \\\n",
    "    .first()[\"Scope Severity Code\"]\n",
    "print(f\"Mode value of 'Scope Severity Code': {mode_value}\")\n",
    "counts = df_agg_home.groupBy(\"Scope Severity Code\").count().orderBy(F.desc(\"count\"))\n",
    "\n",
    "df_filled = df_agg_home.fillna({\"Scope Severity Code\": mode_value})\n",
    "\n",
    "#df_filled.display()\n",
    "counts.display()"
   ]
  }
 ],
 "metadata": {
  "application/vnd.databricks.v1+notebook": {
   "dashboards": [
    {
     "elements": [
      {
       "dashboardResultIndex": null,
       "elementNUID": "f781c746-c776-4699-b319-499689a60435",
       "elementType": "command",
       "guid": "f10d5ad8-f2f4-450a-8f0b-f03e45746ddb",
       "options": {
        "autoScaleImg": false,
        "scale": 0,
        "showTitle": true,
        "title": "Histogram of Contractor Reliance",
        "titleAlign": "center"
       },
       "position": {
        "height": 13,
        "width": 20,
        "x": 0,
        "y": 0,
        "z": null
       },
       "resultIndex": null
      }
     ],
     "globalVars": {},
     "guid": "",
     "layoutOption": {
      "grid": true,
      "stack": true
     },
     "nuid": "bcfbdee2-242b-43af-bef3-cd665b99d7bf",
     "origId": 2701142202256732,
     "title": "Untitled",
     "version": "DashboardViewV1",
     "width": 1024
    }
   ],
   "environmentMetadata": null,
   "language": "python",
   "notebookMetadata": {
    "pythonIndentUnit": 4
   },
   "notebookName": "CMS Staffing Data Analysis and Recommendations for Clipboard Health",
   "widgets": {}
  }
 },
 "nbformat": 4,
 "nbformat_minor": 0
}
